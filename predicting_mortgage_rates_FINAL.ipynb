{
 "cells": [
  {
   "cell_type": "markdown",
   "metadata": {},
   "source": [
    "# Predicting Mortgage Rates from Government Data (FINAL)\n",
    "\n",
    "### This code is developed as a part of the following Capstone competition for Microsoft MPP Data Scientist Certification:\n",
    "\n",
    "https://www.datasciencecapstone.org/competitions/18/mortgage-rates-from-government-data/\n",
    "\n",
    "### The purpose of the code is to calculate morgate rates given the government data. This is a regression problem."
   ]
  },
  {
   "cell_type": "markdown",
   "metadata": {},
   "source": [
    "#### Installing the Catboost library"
   ]
  },
  {
   "cell_type": "code",
   "execution_count": 1,
   "metadata": {},
   "outputs": [
    {
     "name": "stdout",
     "output_type": "stream",
     "text": [
      "Requirement already satisfied: catboost in /home/cenk/anaconda3/lib/python3.11/site-packages (1.2.2)\n",
      "Requirement already satisfied: graphviz in /home/cenk/anaconda3/lib/python3.11/site-packages (from catboost) (0.20.1)\n",
      "Requirement already satisfied: matplotlib in /home/cenk/anaconda3/lib/python3.11/site-packages (from catboost) (3.7.2)\n",
      "Requirement already satisfied: numpy>=1.16.0 in /home/cenk/anaconda3/lib/python3.11/site-packages (from catboost) (1.24.3)\n",
      "Requirement already satisfied: pandas>=0.24 in /home/cenk/anaconda3/lib/python3.11/site-packages (from catboost) (2.0.3)\n",
      "Requirement already satisfied: scipy in /home/cenk/anaconda3/lib/python3.11/site-packages (from catboost) (1.11.1)\n",
      "Requirement already satisfied: plotly in /home/cenk/anaconda3/lib/python3.11/site-packages (from catboost) (5.9.0)\n",
      "Requirement already satisfied: six in /home/cenk/anaconda3/lib/python3.11/site-packages (from catboost) (1.16.0)\n",
      "Requirement already satisfied: python-dateutil>=2.8.2 in /home/cenk/anaconda3/lib/python3.11/site-packages (from pandas>=0.24->catboost) (2.8.2)\n",
      "Requirement already satisfied: pytz>=2020.1 in /home/cenk/anaconda3/lib/python3.11/site-packages (from pandas>=0.24->catboost) (2023.3.post1)\n",
      "Requirement already satisfied: tzdata>=2022.1 in /home/cenk/anaconda3/lib/python3.11/site-packages (from pandas>=0.24->catboost) (2023.3)\n",
      "Requirement already satisfied: contourpy>=1.0.1 in /home/cenk/anaconda3/lib/python3.11/site-packages (from matplotlib->catboost) (1.0.5)\n",
      "Requirement already satisfied: cycler>=0.10 in /home/cenk/anaconda3/lib/python3.11/site-packages (from matplotlib->catboost) (0.11.0)\n",
      "Requirement already satisfied: fonttools>=4.22.0 in /home/cenk/anaconda3/lib/python3.11/site-packages (from matplotlib->catboost) (4.25.0)\n",
      "Requirement already satisfied: kiwisolver>=1.0.1 in /home/cenk/anaconda3/lib/python3.11/site-packages (from matplotlib->catboost) (1.4.4)\n",
      "Requirement already satisfied: packaging>=20.0 in /home/cenk/anaconda3/lib/python3.11/site-packages (from matplotlib->catboost) (23.1)\n",
      "Requirement already satisfied: pillow>=6.2.0 in /home/cenk/anaconda3/lib/python3.11/site-packages (from matplotlib->catboost) (9.4.0)\n",
      "Requirement already satisfied: pyparsing<3.1,>=2.3.1 in /home/cenk/anaconda3/lib/python3.11/site-packages (from matplotlib->catboost) (3.0.9)\n",
      "Requirement already satisfied: tenacity>=6.2.0 in /home/cenk/anaconda3/lib/python3.11/site-packages (from plotly->catboost) (8.2.2)\n"
     ]
    }
   ],
   "source": [
    "!pip install catboost"
   ]
  },
  {
   "cell_type": "code",
   "execution_count": 2,
   "metadata": {},
   "outputs": [
    {
     "data": {
      "application/javascript": "IPython.OutputArea.prototype._should_scroll = function(lines) {\n    return false;\n}\n",
      "text/plain": [
       "<IPython.core.display.Javascript object>"
      ]
     },
     "metadata": {},
     "output_type": "display_data"
    }
   ],
   "source": [
    "%%javascript\n",
    "IPython.OutputArea.prototype._should_scroll = function(lines) {\n",
    "    return false;\n",
    "}"
   ]
  },
  {
   "cell_type": "markdown",
   "metadata": {},
   "source": [
    "#### Importing the required libraries. "
   ]
  },
  {
   "cell_type": "code",
   "execution_count": 3,
   "metadata": {},
   "outputs": [],
   "source": [
    "\n",
    "import pandas as pd\n",
    "import numpy as np\n",
    "import matplotlib\n",
    "import scipy\n",
    "import seaborn as sns\n",
    "\n",
    "from catboost import CatBoostRegressor\n",
    "\n",
    "import time,datetime\n",
    "\n",
    "from scipy import stats\n",
    "\n",
    "from matplotlib import pyplot\n",
    "%matplotlib inline\n"
   ]
  },
  {
   "cell_type": "markdown",
   "metadata": {},
   "source": [
    "### **Acquiring the data**"
   ]
  },
  {
   "cell_type": "code",
   "execution_count": 4,
   "metadata": {},
   "outputs": [],
   "source": [
    "# read in the training dataset\n",
    "training_values = pd.read_csv('training_inputs.csv')\n",
    "training_labels = pd.read_csv('training_labels.csv')\n",
    "train = pd.merge(training_values,training_labels,on='row_id')"
   ]
  },
  {
   "cell_type": "code",
   "execution_count": 5,
   "metadata": {},
   "outputs": [
    {
     "data": {
      "text/html": [
       "<div>\n",
       "<style scoped>\n",
       "    .dataframe tbody tr th:only-of-type {\n",
       "        vertical-align: middle;\n",
       "    }\n",
       "\n",
       "    .dataframe tbody tr th {\n",
       "        vertical-align: top;\n",
       "    }\n",
       "\n",
       "    .dataframe thead th {\n",
       "        text-align: right;\n",
       "    }\n",
       "</style>\n",
       "<table border=\"1\" class=\"dataframe\">\n",
       "  <thead>\n",
       "    <tr style=\"text-align: right;\">\n",
       "      <th></th>\n",
       "      <th>row_id</th>\n",
       "      <th>loan_type</th>\n",
       "      <th>property_type</th>\n",
       "      <th>loan_purpose</th>\n",
       "      <th>occupancy</th>\n",
       "      <th>loan_amount</th>\n",
       "      <th>preapproval</th>\n",
       "      <th>msa_md</th>\n",
       "      <th>state_code</th>\n",
       "      <th>county_code</th>\n",
       "      <th>...</th>\n",
       "      <th>applicant_income</th>\n",
       "      <th>population</th>\n",
       "      <th>minority_population_pct</th>\n",
       "      <th>ffiecmedian_family_income</th>\n",
       "      <th>tract_to_msa_md_income_pct</th>\n",
       "      <th>number_of_owner-occupied_units</th>\n",
       "      <th>number_of_1_to_4_family_units</th>\n",
       "      <th>lender</th>\n",
       "      <th>co_applicant</th>\n",
       "      <th>rate_spread</th>\n",
       "    </tr>\n",
       "  </thead>\n",
       "  <tbody>\n",
       "    <tr>\n",
       "      <th>0</th>\n",
       "      <td>0</td>\n",
       "      <td>2</td>\n",
       "      <td>1</td>\n",
       "      <td>1</td>\n",
       "      <td>1</td>\n",
       "      <td>139.0</td>\n",
       "      <td>1</td>\n",
       "      <td>261</td>\n",
       "      <td>14</td>\n",
       "      <td>246</td>\n",
       "      <td>...</td>\n",
       "      <td>77.0</td>\n",
       "      <td>5949.0</td>\n",
       "      <td>11.642</td>\n",
       "      <td>63192.0</td>\n",
       "      <td>100.000</td>\n",
       "      <td>1556.0</td>\n",
       "      <td>1993.0</td>\n",
       "      <td>2094</td>\n",
       "      <td>True</td>\n",
       "      <td>1.0</td>\n",
       "    </tr>\n",
       "    <tr>\n",
       "      <th>1</th>\n",
       "      <td>1</td>\n",
       "      <td>2</td>\n",
       "      <td>2</td>\n",
       "      <td>1</td>\n",
       "      <td>1</td>\n",
       "      <td>160.0</td>\n",
       "      <td>3</td>\n",
       "      <td>349</td>\n",
       "      <td>48</td>\n",
       "      <td>311</td>\n",
       "      <td>...</td>\n",
       "      <td>42.0</td>\n",
       "      <td>2667.0</td>\n",
       "      <td>37.141</td>\n",
       "      <td>63693.0</td>\n",
       "      <td>75.729</td>\n",
       "      <td>875.0</td>\n",
       "      <td>1163.0</td>\n",
       "      <td>4194</td>\n",
       "      <td>False</td>\n",
       "      <td>2.0</td>\n",
       "    </tr>\n",
       "    <tr>\n",
       "      <th>2</th>\n",
       "      <td>2</td>\n",
       "      <td>1</td>\n",
       "      <td>2</td>\n",
       "      <td>1</td>\n",
       "      <td>1</td>\n",
       "      <td>168.0</td>\n",
       "      <td>3</td>\n",
       "      <td>385</td>\n",
       "      <td>30</td>\n",
       "      <td>256</td>\n",
       "      <td>...</td>\n",
       "      <td>34.0</td>\n",
       "      <td>6393.0</td>\n",
       "      <td>79.635</td>\n",
       "      <td>42883.0</td>\n",
       "      <td>76.948</td>\n",
       "      <td>636.0</td>\n",
       "      <td>1611.0</td>\n",
       "      <td>1119</td>\n",
       "      <td>False</td>\n",
       "      <td>3.0</td>\n",
       "    </tr>\n",
       "    <tr>\n",
       "      <th>3</th>\n",
       "      <td>3</td>\n",
       "      <td>1</td>\n",
       "      <td>2</td>\n",
       "      <td>1</td>\n",
       "      <td>1</td>\n",
       "      <td>57.0</td>\n",
       "      <td>3</td>\n",
       "      <td>117</td>\n",
       "      <td>30</td>\n",
       "      <td>46</td>\n",
       "      <td>...</td>\n",
       "      <td>37.0</td>\n",
       "      <td>7175.0</td>\n",
       "      <td>72.843</td>\n",
       "      <td>63806.0</td>\n",
       "      <td>78.836</td>\n",
       "      <td>1587.0</td>\n",
       "      <td>2172.0</td>\n",
       "      <td>1119</td>\n",
       "      <td>False</td>\n",
       "      <td>6.0</td>\n",
       "    </tr>\n",
       "    <tr>\n",
       "      <th>4</th>\n",
       "      <td>4</td>\n",
       "      <td>2</td>\n",
       "      <td>1</td>\n",
       "      <td>2</td>\n",
       "      <td>1</td>\n",
       "      <td>25.0</td>\n",
       "      <td>3</td>\n",
       "      <td>95</td>\n",
       "      <td>41</td>\n",
       "      <td>192</td>\n",
       "      <td>...</td>\n",
       "      <td>46.0</td>\n",
       "      <td>5041.0</td>\n",
       "      <td>23.188</td>\n",
       "      <td>70908.0</td>\n",
       "      <td>59.579</td>\n",
       "      <td>756.0</td>\n",
       "      <td>1992.0</td>\n",
       "      <td>1593</td>\n",
       "      <td>False</td>\n",
       "      <td>4.0</td>\n",
       "    </tr>\n",
       "  </tbody>\n",
       "</table>\n",
       "<p>5 rows × 23 columns</p>\n",
       "</div>"
      ],
      "text/plain": [
       "   row_id  loan_type  property_type  loan_purpose  occupancy  loan_amount  \\\n",
       "0       0          2              1             1          1        139.0   \n",
       "1       1          2              2             1          1        160.0   \n",
       "2       2          1              2             1          1        168.0   \n",
       "3       3          1              2             1          1         57.0   \n",
       "4       4          2              1             2          1         25.0   \n",
       "\n",
       "   preapproval  msa_md  state_code  county_code  ...  applicant_income  \\\n",
       "0            1     261          14          246  ...              77.0   \n",
       "1            3     349          48          311  ...              42.0   \n",
       "2            3     385          30          256  ...              34.0   \n",
       "3            3     117          30           46  ...              37.0   \n",
       "4            3      95          41          192  ...              46.0   \n",
       "\n",
       "   population  minority_population_pct  ffiecmedian_family_income  \\\n",
       "0      5949.0                   11.642                    63192.0   \n",
       "1      2667.0                   37.141                    63693.0   \n",
       "2      6393.0                   79.635                    42883.0   \n",
       "3      7175.0                   72.843                    63806.0   \n",
       "4      5041.0                   23.188                    70908.0   \n",
       "\n",
       "   tract_to_msa_md_income_pct  number_of_owner-occupied_units  \\\n",
       "0                     100.000                          1556.0   \n",
       "1                      75.729                           875.0   \n",
       "2                      76.948                           636.0   \n",
       "3                      78.836                          1587.0   \n",
       "4                      59.579                           756.0   \n",
       "\n",
       "   number_of_1_to_4_family_units  lender  co_applicant  rate_spread  \n",
       "0                         1993.0    2094          True          1.0  \n",
       "1                         1163.0    4194         False          2.0  \n",
       "2                         1611.0    1119         False          3.0  \n",
       "3                         2172.0    1119         False          6.0  \n",
       "4                         1992.0    1593         False          4.0  \n",
       "\n",
       "[5 rows x 23 columns]"
      ]
     },
     "execution_count": 5,
     "metadata": {},
     "output_type": "execute_result"
    }
   ],
   "source": [
    "# let us view it\n",
    "train.head()"
   ]
  },
  {
   "cell_type": "code",
   "execution_count": 6,
   "metadata": {},
   "outputs": [
    {
     "name": "stdout",
     "output_type": "stream",
     "text": [
      "(200000, 23)\n"
     ]
    }
   ],
   "source": [
    "# check how many rows and features (plus label) we have \n",
    "print(train.shape)"
   ]
  },
  {
   "cell_type": "code",
   "execution_count": 7,
   "metadata": {},
   "outputs": [
    {
     "name": "stdout",
     "output_type": "stream",
     "text": [
      "(200000,)\n"
     ]
    }
   ],
   "source": [
    "# check for redundant rows\n",
    "print(train.row_id.unique().shape)"
   ]
  },
  {
   "cell_type": "markdown",
   "metadata": {},
   "source": [
    "#### FINDING: It seems that we have no redundant row_id entries in the training dataset."
   ]
  },
  {
   "cell_type": "code",
   "execution_count": 8,
   "metadata": {},
   "outputs": [
    {
     "name": "stdout",
     "output_type": "stream",
     "text": [
      "row_id                              int64\n",
      "loan_type                           int64\n",
      "property_type                       int64\n",
      "loan_purpose                        int64\n",
      "occupancy                           int64\n",
      "loan_amount                       float64\n",
      "preapproval                         int64\n",
      "msa_md                              int64\n",
      "state_code                          int64\n",
      "county_code                         int64\n",
      "applicant_ethnicity                 int64\n",
      "applicant_race                      int64\n",
      "applicant_sex                       int64\n",
      "applicant_income                  float64\n",
      "population                        float64\n",
      "minority_population_pct           float64\n",
      "ffiecmedian_family_income         float64\n",
      "tract_to_msa_md_income_pct        float64\n",
      "number_of_owner-occupied_units    float64\n",
      "number_of_1_to_4_family_units     float64\n",
      "lender                              int64\n",
      "co_applicant                         bool\n",
      "rate_spread                       float64\n",
      "dtype: object\n"
     ]
    }
   ],
   "source": [
    "# check the data types for the training dataset\n",
    "print(train.dtypes)"
   ]
  },
  {
   "cell_type": "code",
   "execution_count": 9,
   "metadata": {},
   "outputs": [],
   "source": [
    "# convert \"co-applicant\" from boolean to integer\n",
    "train['co_applicant'] = train['co_applicant'].astype(int)"
   ]
  },
  {
   "cell_type": "code",
   "execution_count": 10,
   "metadata": {},
   "outputs": [
    {
     "name": "stdout",
     "output_type": "stream",
     "text": [
      "row_id                              int64\n",
      "loan_type                           int64\n",
      "property_type                       int64\n",
      "loan_purpose                        int64\n",
      "occupancy                           int64\n",
      "loan_amount                       float64\n",
      "preapproval                         int64\n",
      "msa_md                              int64\n",
      "state_code                          int64\n",
      "county_code                         int64\n",
      "applicant_ethnicity                 int64\n",
      "applicant_race                      int64\n",
      "applicant_sex                       int64\n",
      "applicant_income                  float64\n",
      "population                        float64\n",
      "minority_population_pct           float64\n",
      "ffiecmedian_family_income         float64\n",
      "tract_to_msa_md_income_pct        float64\n",
      "number_of_owner-occupied_units    float64\n",
      "number_of_1_to_4_family_units     float64\n",
      "lender                              int64\n",
      "co_applicant                        int64\n",
      "rate_spread                       float64\n",
      "dtype: object\n"
     ]
    }
   ],
   "source": [
    "# let us check it again\n",
    "print(train.dtypes)"
   ]
  },
  {
   "cell_type": "code",
   "execution_count": 12,
   "metadata": {},
   "outputs": [],
   "source": [
    "# read in the test (validation) dataset\n",
    "test = pd.read_csv('test_values.csv')"
   ]
  },
  {
   "cell_type": "code",
   "execution_count": 13,
   "metadata": {},
   "outputs": [
    {
     "data": {
      "text/html": [
       "<div>\n",
       "<style scoped>\n",
       "    .dataframe tbody tr th:only-of-type {\n",
       "        vertical-align: middle;\n",
       "    }\n",
       "\n",
       "    .dataframe tbody tr th {\n",
       "        vertical-align: top;\n",
       "    }\n",
       "\n",
       "    .dataframe thead th {\n",
       "        text-align: right;\n",
       "    }\n",
       "</style>\n",
       "<table border=\"1\" class=\"dataframe\">\n",
       "  <thead>\n",
       "    <tr style=\"text-align: right;\">\n",
       "      <th></th>\n",
       "      <th>row_id</th>\n",
       "      <th>loan_type</th>\n",
       "      <th>property_type</th>\n",
       "      <th>loan_purpose</th>\n",
       "      <th>occupancy</th>\n",
       "      <th>loan_amount</th>\n",
       "      <th>preapproval</th>\n",
       "      <th>msa_md</th>\n",
       "      <th>state_code</th>\n",
       "      <th>county_code</th>\n",
       "      <th>...</th>\n",
       "      <th>applicant_sex</th>\n",
       "      <th>applicant_income</th>\n",
       "      <th>population</th>\n",
       "      <th>minority_population_pct</th>\n",
       "      <th>ffiecmedian_family_income</th>\n",
       "      <th>tract_to_msa_md_income_pct</th>\n",
       "      <th>number_of_owner-occupied_units</th>\n",
       "      <th>number_of_1_to_4_family_units</th>\n",
       "      <th>lender</th>\n",
       "      <th>co_applicant</th>\n",
       "    </tr>\n",
       "  </thead>\n",
       "  <tbody>\n",
       "    <tr>\n",
       "      <th>0</th>\n",
       "      <td>0</td>\n",
       "      <td>1</td>\n",
       "      <td>2</td>\n",
       "      <td>1</td>\n",
       "      <td>1</td>\n",
       "      <td>46.0</td>\n",
       "      <td>3</td>\n",
       "      <td>262</td>\n",
       "      <td>37</td>\n",
       "      <td>83</td>\n",
       "      <td>...</td>\n",
       "      <td>2</td>\n",
       "      <td>50.0</td>\n",
       "      <td>10761.0</td>\n",
       "      <td>43.415</td>\n",
       "      <td>61732.0</td>\n",
       "      <td>100.000</td>\n",
       "      <td>2900.0</td>\n",
       "      <td>3603.0</td>\n",
       "      <td>1119</td>\n",
       "      <td>False</td>\n",
       "    </tr>\n",
       "    <tr>\n",
       "      <th>1</th>\n",
       "      <td>1</td>\n",
       "      <td>1</td>\n",
       "      <td>1</td>\n",
       "      <td>3</td>\n",
       "      <td>1</td>\n",
       "      <td>170.0</td>\n",
       "      <td>3</td>\n",
       "      <td>282</td>\n",
       "      <td>11</td>\n",
       "      <td>267</td>\n",
       "      <td>...</td>\n",
       "      <td>1</td>\n",
       "      <td>155.0</td>\n",
       "      <td>2285.0</td>\n",
       "      <td>20.115</td>\n",
       "      <td>50373.0</td>\n",
       "      <td>100.000</td>\n",
       "      <td>539.0</td>\n",
       "      <td>873.0</td>\n",
       "      <td>4216</td>\n",
       "      <td>False</td>\n",
       "    </tr>\n",
       "    <tr>\n",
       "      <th>2</th>\n",
       "      <td>2</td>\n",
       "      <td>1</td>\n",
       "      <td>1</td>\n",
       "      <td>1</td>\n",
       "      <td>1</td>\n",
       "      <td>174.0</td>\n",
       "      <td>3</td>\n",
       "      <td>274</td>\n",
       "      <td>12</td>\n",
       "      <td>162</td>\n",
       "      <td>...</td>\n",
       "      <td>1</td>\n",
       "      <td>102.0</td>\n",
       "      <td>7765.0</td>\n",
       "      <td>78.621</td>\n",
       "      <td>75175.0</td>\n",
       "      <td>54.165</td>\n",
       "      <td>1559.0</td>\n",
       "      <td>1712.0</td>\n",
       "      <td>2467</td>\n",
       "      <td>False</td>\n",
       "    </tr>\n",
       "    <tr>\n",
       "      <th>3</th>\n",
       "      <td>3</td>\n",
       "      <td>1</td>\n",
       "      <td>1</td>\n",
       "      <td>1</td>\n",
       "      <td>2</td>\n",
       "      <td>116.0</td>\n",
       "      <td>2</td>\n",
       "      <td>254</td>\n",
       "      <td>37</td>\n",
       "      <td>282</td>\n",
       "      <td>...</td>\n",
       "      <td>1</td>\n",
       "      <td>51.0</td>\n",
       "      <td>3387.0</td>\n",
       "      <td>96.208</td>\n",
       "      <td>48677.0</td>\n",
       "      <td>74.476</td>\n",
       "      <td>938.0</td>\n",
       "      <td>784.0</td>\n",
       "      <td>2773</td>\n",
       "      <td>True</td>\n",
       "    </tr>\n",
       "    <tr>\n",
       "      <th>4</th>\n",
       "      <td>4</td>\n",
       "      <td>1</td>\n",
       "      <td>1</td>\n",
       "      <td>3</td>\n",
       "      <td>1</td>\n",
       "      <td>108.0</td>\n",
       "      <td>3</td>\n",
       "      <td>194</td>\n",
       "      <td>41</td>\n",
       "      <td>17</td>\n",
       "      <td>...</td>\n",
       "      <td>1</td>\n",
       "      <td>88.0</td>\n",
       "      <td>3106.0</td>\n",
       "      <td>6.370</td>\n",
       "      <td>68070.0</td>\n",
       "      <td>100.000</td>\n",
       "      <td>1119.0</td>\n",
       "      <td>1301.0</td>\n",
       "      <td>3110</td>\n",
       "      <td>False</td>\n",
       "    </tr>\n",
       "  </tbody>\n",
       "</table>\n",
       "<p>5 rows × 22 columns</p>\n",
       "</div>"
      ],
      "text/plain": [
       "   row_id  loan_type  property_type  loan_purpose  occupancy  loan_amount  \\\n",
       "0       0          1              2             1          1         46.0   \n",
       "1       1          1              1             3          1        170.0   \n",
       "2       2          1              1             1          1        174.0   \n",
       "3       3          1              1             1          2        116.0   \n",
       "4       4          1              1             3          1        108.0   \n",
       "\n",
       "   preapproval  msa_md  state_code  county_code  ...  applicant_sex  \\\n",
       "0            3     262          37           83  ...              2   \n",
       "1            3     282          11          267  ...              1   \n",
       "2            3     274          12          162  ...              1   \n",
       "3            2     254          37          282  ...              1   \n",
       "4            3     194          41           17  ...              1   \n",
       "\n",
       "   applicant_income  population  minority_population_pct  \\\n",
       "0              50.0     10761.0                   43.415   \n",
       "1             155.0      2285.0                   20.115   \n",
       "2             102.0      7765.0                   78.621   \n",
       "3              51.0      3387.0                   96.208   \n",
       "4              88.0      3106.0                    6.370   \n",
       "\n",
       "   ffiecmedian_family_income  tract_to_msa_md_income_pct  \\\n",
       "0                    61732.0                     100.000   \n",
       "1                    50373.0                     100.000   \n",
       "2                    75175.0                      54.165   \n",
       "3                    48677.0                      74.476   \n",
       "4                    68070.0                     100.000   \n",
       "\n",
       "   number_of_owner-occupied_units  number_of_1_to_4_family_units  lender  \\\n",
       "0                          2900.0                         3603.0    1119   \n",
       "1                           539.0                          873.0    4216   \n",
       "2                          1559.0                         1712.0    2467   \n",
       "3                           938.0                          784.0    2773   \n",
       "4                          1119.0                         1301.0    3110   \n",
       "\n",
       "   co_applicant  \n",
       "0         False  \n",
       "1         False  \n",
       "2         False  \n",
       "3          True  \n",
       "4         False  \n",
       "\n",
       "[5 rows x 22 columns]"
      ]
     },
     "execution_count": 13,
     "metadata": {},
     "output_type": "execute_result"
    }
   ],
   "source": [
    "# let us view the test (validation) dataset\n",
    "test.head()"
   ]
  },
  {
   "cell_type": "code",
   "execution_count": 14,
   "metadata": {},
   "outputs": [
    {
     "name": "stdout",
     "output_type": "stream",
     "text": [
      "(200000, 22)\n"
     ]
    }
   ],
   "source": [
    "# show how many rows and features we have - naturally, we do not have the label.\n",
    "print(test.shape)"
   ]
  },
  {
   "cell_type": "code",
   "execution_count": 15,
   "metadata": {},
   "outputs": [
    {
     "name": "stdout",
     "output_type": "stream",
     "text": [
      "(200000,)\n"
     ]
    }
   ],
   "source": [
    "# check for redundant rows\n",
    "print(test.row_id.unique().shape)"
   ]
  },
  {
   "cell_type": "markdown",
   "metadata": {},
   "source": [
    "#### FINDING: It seems that we have no redundant row_id entries in the test dataset."
   ]
  },
  {
   "cell_type": "code",
   "execution_count": 16,
   "metadata": {},
   "outputs": [
    {
     "name": "stdout",
     "output_type": "stream",
     "text": [
      "row_id                              int64\n",
      "loan_type                           int64\n",
      "property_type                       int64\n",
      "loan_purpose                        int64\n",
      "occupancy                           int64\n",
      "loan_amount                       float64\n",
      "preapproval                         int64\n",
      "msa_md                              int64\n",
      "state_code                          int64\n",
      "county_code                         int64\n",
      "applicant_ethnicity                 int64\n",
      "applicant_race                      int64\n",
      "applicant_sex                       int64\n",
      "applicant_income                  float64\n",
      "population                        float64\n",
      "minority_population_pct           float64\n",
      "ffiecmedian_family_income         float64\n",
      "tract_to_msa_md_income_pct        float64\n",
      "number_of_owner-occupied_units    float64\n",
      "number_of_1_to_4_family_units     float64\n",
      "lender                              int64\n",
      "co_applicant                         bool\n",
      "dtype: object\n"
     ]
    }
   ],
   "source": [
    "# check the data types for the test dataset\n",
    "print(test.dtypes)"
   ]
  },
  {
   "cell_type": "code",
   "execution_count": 17,
   "metadata": {},
   "outputs": [],
   "source": [
    "# convert \"co-applicant\" to boolean integer\n",
    "test['co_applicant'] = test['co_applicant'].astype(int)"
   ]
  },
  {
   "cell_type": "code",
   "execution_count": 18,
   "metadata": {},
   "outputs": [
    {
     "name": "stdout",
     "output_type": "stream",
     "text": [
      "row_id                              int64\n",
      "loan_type                           int64\n",
      "property_type                       int64\n",
      "loan_purpose                        int64\n",
      "occupancy                           int64\n",
      "loan_amount                       float64\n",
      "preapproval                         int64\n",
      "msa_md                              int64\n",
      "state_code                          int64\n",
      "county_code                         int64\n",
      "applicant_ethnicity                 int64\n",
      "applicant_race                      int64\n",
      "applicant_sex                       int64\n",
      "applicant_income                  float64\n",
      "population                        float64\n",
      "minority_population_pct           float64\n",
      "ffiecmedian_family_income         float64\n",
      "tract_to_msa_md_income_pct        float64\n",
      "number_of_owner-occupied_units    float64\n",
      "number_of_1_to_4_family_units     float64\n",
      "lender                              int64\n",
      "co_applicant                        int64\n",
      "dtype: object\n"
     ]
    }
   ],
   "source": [
    "# check the data types for the training dataset\n",
    "print(test.dtypes)"
   ]
  },
  {
   "cell_type": "markdown",
   "metadata": {},
   "source": [
    "## **Capstone Challange 1 - Data Exploration**"
   ]
  },
  {
   "cell_type": "markdown",
   "metadata": {},
   "source": [
    "### QUESTION : get basic stats for 'rate_spread'"
   ]
  },
  {
   "cell_type": "code",
   "execution_count": 19,
   "metadata": {},
   "outputs": [
    {
     "name": "stdout",
     "output_type": "stream",
     "text": [
      "Rate Spread Min: 1.0\n",
      "Rate Spread Max: 99.0\n",
      "Rate Spread Mean: 2.0\n",
      "Rate Spread Median: 1.0\n",
      "Rate Spread Std Dev: 1.7\n"
     ]
    }
   ],
   "source": [
    "print('Rate Spread Min: %.1f' % (training_labels['rate_spread'].min()))\n",
    "print('Rate Spread Max: %.1f' % (training_labels['rate_spread'].max()))\n",
    "print('Rate Spread Mean: %.1f' % (training_labels['rate_spread'].mean()))\n",
    "print('Rate Spread Median: %.1f' % (training_labels['rate_spread'].median()))\n",
    "print('Rate Spread Std Dev: %.1f' % (training_labels['rate_spread'].std()))"
   ]
  },
  {
   "cell_type": "markdown",
   "metadata": {},
   "source": [
    "### QUESTION: draw histogram for 'rate_spread'"
   ]
  },
  {
   "cell_type": "code",
   "execution_count": 20,
   "metadata": {},
   "outputs": [
    {
     "data": {
      "image/png": "[encoded data removed]",
      "text/plain": [
       "<Figure size 600x600 with 1 Axes>"
      ]
     },
     "metadata": {},
     "output_type": "display_data"
    }
   ],
   "source": [
    "\n",
    "def plot_histogram(my_df, cols, bins = 200):\n",
    "    for col in cols:\n",
    "        fig = pyplot.figure(figsize=(6,6)) # define plot area\n",
    "        ax = fig.gca() # define axis    \n",
    "        my_df[col].plot.hist(ax = ax, bins = bins) # Use the plot.hist method on subset of the data frame\n",
    "        ax.set_title('Histogram of ' + col) # Give the plot a main title\n",
    "        ax.set_xlabel(col) # Set text for the x axis\n",
    "        ax.set_ylabel('Frequency')# Set text for y axis\n",
    "        pyplot.show()\n",
    "        \n",
    "num_cols = ['rate_spread']    \n",
    "plot_histogram(train, num_cols)"
   ]
  },
  {
   "cell_type": "markdown",
   "metadata": {},
   "source": [
    "### QUESTION : compare avg \"rate_spread\" between 'applicant_ethnicity = 1' vs 'applicant_ethnicity = 3'"
   ]
  },
  {
   "cell_type": "code",
   "execution_count": 21,
   "metadata": {},
   "outputs": [
    {
     "data": {
      "text/plain": [
       "<Axes: xlabel='applicant_ethnicity', ylabel='rate_spread'>"
      ]
     },
     "execution_count": 21,
     "metadata": {},
     "output_type": "execute_result"
    },
    {
     "data": {
      "image/png": "[encoded data removed]",
      "text/plain": [
       "<Figure size 640x480 with 1 Axes>"
      ]
     },
     "metadata": {},
     "output_type": "display_data"
    }
   ],
   "source": [
    "# let us use boxplot which gives us a lot of information including outliers\n",
    "sns.boxplot(x='applicant_ethnicity',y='rate_spread',data=train)"
   ]
  },
  {
   "cell_type": "code",
   "execution_count": 22,
   "metadata": {},
   "outputs": [
    {
     "data": {
      "text/plain": [
       "1.7496337995806646"
      ]
     },
     "execution_count": 22,
     "metadata": {},
     "output_type": "execute_result"
    }
   ],
   "source": [
    "# printing the mean rate spread for \"applicant_etnicity=1.0\"\n",
    "train[train.applicant_ethnicity == 1.0].rate_spread.mean()"
   ]
  },
  {
   "cell_type": "code",
   "execution_count": 23,
   "metadata": {},
   "outputs": [
    {
     "data": {
      "text/plain": [
       "3.006747310193909"
      ]
     },
     "execution_count": 23,
     "metadata": {},
     "output_type": "execute_result"
    }
   ],
   "source": [
    "# printing the mean rate spread for \"applicant_etnicity=3.0\"\n",
    "train[train.applicant_ethnicity == 3.0].rate_spread.mean()"
   ]
  },
  {
   "cell_type": "markdown",
   "metadata": {},
   "source": [
    "### QUESTION : compare avg \"rate_spread\" between 'sex = 1' vs 'sex = 2'"
   ]
  },
  {
   "cell_type": "code",
   "execution_count": 24,
   "metadata": {},
   "outputs": [
    {
     "data": {
      "text/plain": [
       "<Axes: xlabel='applicant_sex', ylabel='rate_spread'>"
      ]
     },
     "execution_count": 24,
     "metadata": {},
     "output_type": "execute_result"
    },
    {
     "data": {
      "image/png": "[encoded data removed]",
      "text/plain": [
       "<Figure size 640x480 with 1 Axes>"
      ]
     },
     "metadata": {},
     "output_type": "display_data"
    }
   ],
   "source": [
    "# let us use boxplot which gives us a lot of information including outliers\n",
    "sns.boxplot(x='applicant_sex',y='rate_spread',data=train)"
   ]
  },
  {
   "cell_type": "code",
   "execution_count": 25,
   "metadata": {},
   "outputs": [
    {
     "data": {
      "text/plain": [
       "1.9647117176937416"
      ]
     },
     "execution_count": 25,
     "metadata": {},
     "output_type": "execute_result"
    }
   ],
   "source": [
    "# printing the mean rate spread for \"applicant_sex=1.0\"\n",
    "train[train.applicant_sex == 1.0].rate_spread.mean()"
   ]
  },
  {
   "cell_type": "code",
   "execution_count": 26,
   "metadata": {},
   "outputs": [
    {
     "data": {
      "text/plain": [
       "1.976468831653602"
      ]
     },
     "execution_count": 26,
     "metadata": {},
     "output_type": "execute_result"
    }
   ],
   "source": [
    "# printing the mean rate spread for \"applicant_sex=2.0\"\n",
    "train[train.applicant_sex == 2.0].rate_spread.mean()"
   ]
  },
  {
   "cell_type": "markdown",
   "metadata": {},
   "source": [
    "Applicants where applicant_ethnicity=3 have a higher rate spread on average than where applicant_ethnicity=1.\n",
    "Applicants where applicant_sex=1 have a lower rate spread on average than where applicant_sex=2. "
   ]
  },
  {
   "cell_type": "markdown",
   "metadata": {},
   "source": [
    "### QUESTION: for applicants in state 43, get correlation between 'income' and 'loan amount'"
   ]
  },
  {
   "cell_type": "code",
   "execution_count": 27,
   "metadata": {},
   "outputs": [
    {
     "name": "stdout",
     "output_type": "stream",
     "text": [
      "0.7152094141679803\n"
     ]
    }
   ],
   "source": [
    "income = train[train.state_code == 43.0].applicant_income\n",
    "loan = train[train.state_code == 43.0].loan_amount\n",
    "corr_value = income.corr(loan)\n",
    "print(corr_value)"
   ]
  },
  {
   "cell_type": "code",
   "execution_count": 28,
   "metadata": {},
   "outputs": [
    {
     "data": {
      "image/png": "[encoded data removed]",
      "text/plain": [
       "<Figure size 640x480 with 1 Axes>"
      ]
     },
     "metadata": {},
     "output_type": "display_data"
    }
   ],
   "source": [
    "# now let us print the correlatin graph\n",
    "pyplot.scatter(income,loan)\n",
    "pyplot.xlabel('Applicant Income')\n",
    "pyplot.ylabel('Loan Amount')\n",
    "pyplot.show()"
   ]
  },
  {
   "cell_type": "markdown",
   "metadata": {},
   "source": [
    "A higher applicant income is associated with a higher loan amount, on average. "
   ]
  },
  {
   "cell_type": "markdown",
   "metadata": {},
   "source": [
    "### QUESTION: limiting just to state 48 and ignoring where county is missing (missing value being -1) analyze 'rate_spread' for different counties"
   ]
  },
  {
   "cell_type": "code",
   "execution_count": 29,
   "metadata": {},
   "outputs": [
    {
     "data": {
      "text/plain": [
       "<Axes: xlabel='county_code', ylabel='rate_spread'>"
      ]
     },
     "execution_count": 29,
     "metadata": {},
     "output_type": "execute_result"
    },
    {
     "data": {
      "image/png": "[encoded data removed]",
      "text/plain": [
       "<Figure size 640x480 with 1 Axes>"
      ]
     },
     "metadata": {},
     "output_type": "display_data"
    }
   ],
   "source": [
    "# get the 'rate_spread' and 'county_code' for 'state_code == 48\n",
    "temp_df = train[train.state_code == 48.0][['county_code','rate_spread']]\n",
    "\n",
    "# drop the rows where 'county_code' = -1.0\n",
    "temp_df.drop(temp_df[temp_df.county_code == -1.0].index, inplace=True)\n",
    "\n",
    "# draw the boxplot\n",
    "sns.boxplot(x='county_code',y='rate_spread',data=temp_df)"
   ]
  },
  {
   "cell_type": "markdown",
   "metadata": {},
   "source": [
    "In state 48, the average rate spread across counties varies substantially, ranging from around 1% to around 7%."
   ]
  },
  {
   "cell_type": "markdown",
   "metadata": {},
   "source": [
    "### QUESTION: Looking just at states 2 and 3 and just loan types 1, 2, and 3, compare avg rate spread between states\n"
   ]
  },
  {
   "cell_type": "code",
   "execution_count": 30,
   "metadata": {},
   "outputs": [
    {
     "name": "stdout",
     "output_type": "stream",
     "text": [
      "(200000, 23)\n",
      "(198095, 23)\n",
      "(9985, 23)\n"
     ]
    }
   ],
   "source": [
    "print(train.shape)\n",
    "temp_df = train[((train.loan_type == 1.0) | (train.loan_type == 2.0) | (train.loan_type == 3.0))]\n",
    "print(temp_df.shape)\n",
    "temp_df2 = temp_df[(temp_df.state_code == 2.0) | (temp_df.state_code == 3.0)]\n",
    "print(temp_df2.shape)"
   ]
  },
  {
   "cell_type": "code",
   "execution_count": 31,
   "metadata": {},
   "outputs": [
    {
     "name": "stdout",
     "output_type": "stream",
     "text": [
      "Avg rate spread for state 2: 2.77\n",
      "Avg rate spread for states 2 and 3: 2.24\n"
     ]
    }
   ],
   "source": [
    "# calculate the average rate spread in state 2 vs the overall rate among states 2 and 3.\n",
    "m1 = temp_df2[temp_df2.state_code == 2.0].rate_spread.mean()\n",
    "print('Avg rate spread for state 2: %.2f' % m1)\n",
    "\n",
    "m2 = temp_df2.rate_spread.mean()\n",
    "print('Avg rate spread for states 2 and 3: %.2f'  %m2)\n"
   ]
  },
  {
   "cell_type": "code",
   "execution_count": 32,
   "metadata": {},
   "outputs": [
    {
     "name": "stdout",
     "output_type": "stream",
     "text": [
      "Avg rate spread for state 3: 1.72\n",
      "Avg rate spread for states 2 and 3: 2.24\n"
     ]
    }
   ],
   "source": [
    "# calculate the average rate spread in state 3 vs the overall rate among states 2 and 3.\n",
    "m1 = temp_df2[temp_df2.state_code == 3.0].rate_spread.mean()\n",
    "print('Avg rate spread for state 3: %.2f' % m1)\n",
    "\n",
    "m2 = temp_df2.rate_spread.mean()\n",
    "print('Avg rate spread for states 2 and 3: %.2f'  %m2)"
   ]
  },
  {
   "cell_type": "code",
   "execution_count": 33,
   "metadata": {},
   "outputs": [
    {
     "name": "stdout",
     "output_type": "stream",
     "text": [
      "Avg rate spread for state 2: 2.77\n",
      "Avg rate spread for state 3: 1.72\n"
     ]
    }
   ],
   "source": [
    "# calculate the average rate spread in state 2 vs the overall rate in state 3\n",
    "\n",
    "m1 = temp_df2[temp_df2.state_code == 2.0].rate_spread.mean()\n",
    "print('Avg rate spread for state 2: %.2f' % m1)\n",
    "\n",
    "m2 = temp_df2[temp_df2.state_code == 3.0].rate_spread.mean()\n",
    "print('Avg rate spread for state 3: %.2f'  %m2)"
   ]
  },
  {
   "cell_type": "markdown",
   "metadata": {},
   "source": [
    "For loan types 1, 2, and 3, the average rate spread in state 2 is higher than for the corresponding loan type in state 3. "
   ]
  },
  {
   "cell_type": "markdown",
   "metadata": {},
   "source": [
    "### **Feature Engineering**\n",
    "\n",
    "### Remove outlier for dependent value"
   ]
  },
  {
   "cell_type": "code",
   "execution_count": 34,
   "metadata": {},
   "outputs": [
    {
     "data": {
      "text/plain": [
       "<Axes: ylabel='rate_spread'>"
      ]
     },
     "execution_count": 34,
     "metadata": {},
     "output_type": "execute_result"
    },
    {
     "data": {
      "image/png": "[encoded data removed]",
      "text/plain": [
       "<Figure size 640x480 with 1 Axes>"
      ]
     },
     "metadata": {},
     "output_type": "display_data"
    }
   ],
   "source": [
    "# let us see the outliers in a boxplot\n",
    "sns.boxplot(y='rate_spread',data=train)"
   ]
  },
  {
   "cell_type": "code",
   "execution_count": 35,
   "metadata": {},
   "outputs": [],
   "source": [
    "# CUT OFF VALUE FOR TRAINING DATASET\n",
    "cut_off = 50.0"
   ]
  },
  {
   "cell_type": "code",
   "execution_count": 36,
   "metadata": {},
   "outputs": [
    {
     "data": {
      "text/plain": [
       "row_id                            3\n",
       "loan_type                         3\n",
       "property_type                     3\n",
       "loan_purpose                      3\n",
       "occupancy                         3\n",
       "loan_amount                       3\n",
       "preapproval                       3\n",
       "msa_md                            3\n",
       "state_code                        3\n",
       "county_code                       3\n",
       "applicant_ethnicity               3\n",
       "applicant_race                    3\n",
       "applicant_sex                     3\n",
       "applicant_income                  3\n",
       "population                        3\n",
       "minority_population_pct           3\n",
       "ffiecmedian_family_income         3\n",
       "tract_to_msa_md_income_pct        3\n",
       "number_of_owner-occupied_units    3\n",
       "number_of_1_to_4_family_units     3\n",
       "lender                            3\n",
       "co_applicant                      3\n",
       "rate_spread                       3\n",
       "dtype: int64"
      ]
     },
     "execution_count": 36,
     "metadata": {},
     "output_type": "execute_result"
    }
   ],
   "source": [
    "# let us check the number of outlier values\n",
    "train[(train['rate_spread']>cut_off)].count()"
   ]
  },
  {
   "cell_type": "code",
   "execution_count": 37,
   "metadata": {},
   "outputs": [],
   "source": [
    "# applying the cutoff\n",
    "train = train[train.rate_spread < cut_off]"
   ]
  },
  {
   "cell_type": "code",
   "execution_count": 38,
   "metadata": {},
   "outputs": [
    {
     "data": {
      "text/plain": [
       "(199997, 23)"
      ]
     },
     "execution_count": 38,
     "metadata": {},
     "output_type": "execute_result"
    }
   ],
   "source": [
    "train.shape"
   ]
  },
  {
   "cell_type": "markdown",
   "metadata": {},
   "source": [
    "### Impute missing values for training dataset"
   ]
  },
  {
   "cell_type": "code",
   "execution_count": 39,
   "metadata": {},
   "outputs": [],
   "source": [
    "# we are given the information that a value of '-1' indicates missing value for the following columns:\n",
    "# msa_md, state_code, county_code\n",
    "# if such a value exists, we will replace it with NaN\n",
    "train['msa_md'].replace(-1.0, np.NaN,inplace=True)\n",
    "train['state_code'].replace(-1.0, np.NaN,inplace=True)\n",
    "train['county_code'].replace(-1.0, np.NaN,inplace=True)"
   ]
  },
  {
   "cell_type": "code",
   "execution_count": 40,
   "metadata": {},
   "outputs": [
    {
     "data": {
      "text/plain": [
       "row_id                                0\n",
       "loan_type                             0\n",
       "property_type                         0\n",
       "loan_purpose                          0\n",
       "occupancy                             0\n",
       "loan_amount                           0\n",
       "preapproval                           0\n",
       "msa_md                                0\n",
       "state_code                         1338\n",
       "county_code                           0\n",
       "applicant_ethnicity                   0\n",
       "applicant_race                        0\n",
       "applicant_sex                         0\n",
       "applicant_income                  10708\n",
       "population                         1995\n",
       "minority_population_pct            1995\n",
       "ffiecmedian_family_income          1985\n",
       "tract_to_msa_md_income_pct         2023\n",
       "number_of_owner-occupied_units     2012\n",
       "number_of_1_to_4_family_units      2016\n",
       "lender                                0\n",
       "co_applicant                          0\n",
       "rate_spread                           0\n",
       "dtype: int64"
      ]
     },
     "execution_count": 40,
     "metadata": {},
     "output_type": "execute_result"
    }
   ],
   "source": [
    "train.isna().sum()"
   ]
  },
  {
   "cell_type": "code",
   "execution_count": 42,
   "metadata": {},
   "outputs": [],
   "source": [
    "# let us see what percentage of the total data is missing\n",
    "def missing_values_table(df):\n",
    "        mis_val = df.isna().sum()\n",
    "        mis_val_percent = 100 * df.isnull().sum() / len(df)\n",
    "        mis_val_table = pd.concat([mis_val, mis_val_percent], axis=1)\n",
    "        mis_val_table_ren_columns = mis_val_table.rename(\n",
    "        columns = {0 : 'Missing Values', 1 : '% of Total Values'})\n",
    "        mis_val_table_ren_columns = mis_val_table_ren_columns[\n",
    "            mis_val_table_ren_columns.iloc[:,1] != 0].sort_values(\n",
    "        '% of Total Values', ascending=False).round(1)\n",
    "        print (\"Your selected dataframe has \" + str(df.shape[1]) + \" columns.\\n\"      \n",
    "            \"There are \" + str(mis_val_table_ren_columns.shape[0]) +\n",
    "              \" columns that have missing values.\")\n",
    "        return mis_val_table_ren_columns"
   ]
  },
  {
   "cell_type": "code",
   "execution_count": 43,
   "metadata": {},
   "outputs": [
    {
     "name": "stdout",
     "output_type": "stream",
     "text": [
      "Your selected dataframe has 23 columns.\n",
      "There are 8 columns that have missing values.\n"
     ]
    },
    {
     "data": {
      "text/html": [
       "<div>\n",
       "<style scoped>\n",
       "    .dataframe tbody tr th:only-of-type {\n",
       "        vertical-align: middle;\n",
       "    }\n",
       "\n",
       "    .dataframe tbody tr th {\n",
       "        vertical-align: top;\n",
       "    }\n",
       "\n",
       "    .dataframe thead th {\n",
       "        text-align: right;\n",
       "    }\n",
       "</style>\n",
       "<table border=\"1\" class=\"dataframe\">\n",
       "  <thead>\n",
       "    <tr style=\"text-align: right;\">\n",
       "      <th></th>\n",
       "      <th>Missing Values</th>\n",
       "      <th>% of Total Values</th>\n",
       "    </tr>\n",
       "  </thead>\n",
       "  <tbody>\n",
       "    <tr>\n",
       "      <th>applicant_income</th>\n",
       "      <td>10708</td>\n",
       "      <td>5.4</td>\n",
       "    </tr>\n",
       "    <tr>\n",
       "      <th>tract_to_msa_md_income_pct</th>\n",
       "      <td>2023</td>\n",
       "      <td>1.0</td>\n",
       "    </tr>\n",
       "    <tr>\n",
       "      <th>number_of_1_to_4_family_units</th>\n",
       "      <td>2016</td>\n",
       "      <td>1.0</td>\n",
       "    </tr>\n",
       "    <tr>\n",
       "      <th>number_of_owner-occupied_units</th>\n",
       "      <td>2012</td>\n",
       "      <td>1.0</td>\n",
       "    </tr>\n",
       "    <tr>\n",
       "      <th>population</th>\n",
       "      <td>1995</td>\n",
       "      <td>1.0</td>\n",
       "    </tr>\n",
       "    <tr>\n",
       "      <th>minority_population_pct</th>\n",
       "      <td>1995</td>\n",
       "      <td>1.0</td>\n",
       "    </tr>\n",
       "    <tr>\n",
       "      <th>ffiecmedian_family_income</th>\n",
       "      <td>1985</td>\n",
       "      <td>1.0</td>\n",
       "    </tr>\n",
       "    <tr>\n",
       "      <th>state_code</th>\n",
       "      <td>1338</td>\n",
       "      <td>0.7</td>\n",
       "    </tr>\n",
       "  </tbody>\n",
       "</table>\n",
       "</div>"
      ],
      "text/plain": [
       "                                Missing Values  % of Total Values\n",
       "applicant_income                         10708                5.4\n",
       "tract_to_msa_md_income_pct                2023                1.0\n",
       "number_of_1_to_4_family_units             2016                1.0\n",
       "number_of_owner-occupied_units            2012                1.0\n",
       "population                                1995                1.0\n",
       "minority_population_pct                   1995                1.0\n",
       "ffiecmedian_family_income                 1985                1.0\n",
       "state_code                                1338                0.7"
      ]
     },
     "execution_count": 43,
     "metadata": {},
     "output_type": "execute_result"
    }
   ],
   "source": [
    "missing_values_table(train)"
   ]
  },
  {
   "cell_type": "code",
   "execution_count": 44,
   "metadata": {},
   "outputs": [],
   "source": [
    "# now it is time to impute missing values\n",
    "# if a feature is numeric, then use the mean()\n",
    "# for categorical features, use mode()\n",
    "train['state_code'].fillna(train['state_code'].mode()[0], inplace=True)\n",
    "train['applicant_income'].fillna(train['applicant_income'].mean(), inplace=True)\n",
    "train['population'].fillna(train['population'].mean(), inplace=True)\n",
    "train['minority_population_pct'].fillna(train['minority_population_pct'].mean(), inplace=True)\n",
    "train['ffiecmedian_family_income'].fillna(train['ffiecmedian_family_income'].mean(), inplace=True)\n",
    "train['tract_to_msa_md_income_pct'].fillna(train['tract_to_msa_md_income_pct'].mean(), inplace=True)\n",
    "train['number_of_owner-occupied_units'].fillna(train['number_of_owner-occupied_units'].mean(), inplace=True)\n",
    "train['number_of_1_to_4_family_units'].fillna(train['number_of_1_to_4_family_units'].mean(), inplace=True)"
   ]
  },
  {
   "cell_type": "code",
   "execution_count": 45,
   "metadata": {},
   "outputs": [
    {
     "data": {
      "text/plain": [
       "row_id                            0\n",
       "loan_type                         0\n",
       "property_type                     0\n",
       "loan_purpose                      0\n",
       "occupancy                         0\n",
       "loan_amount                       0\n",
       "preapproval                       0\n",
       "msa_md                            0\n",
       "state_code                        0\n",
       "county_code                       0\n",
       "applicant_ethnicity               0\n",
       "applicant_race                    0\n",
       "applicant_sex                     0\n",
       "applicant_income                  0\n",
       "population                        0\n",
       "minority_population_pct           0\n",
       "ffiecmedian_family_income         0\n",
       "tract_to_msa_md_income_pct        0\n",
       "number_of_owner-occupied_units    0\n",
       "number_of_1_to_4_family_units     0\n",
       "lender                            0\n",
       "co_applicant                      0\n",
       "rate_spread                       0\n",
       "dtype: int64"
      ]
     },
     "execution_count": 45,
     "metadata": {},
     "output_type": "execute_result"
    }
   ],
   "source": [
    "# check for null values in the training dataset after imputing\n",
    "train.isna().sum()"
   ]
  },
  {
   "cell_type": "markdown",
   "metadata": {},
   "source": [
    "### Impute missing values for testing dataset"
   ]
  },
  {
   "cell_type": "code",
   "execution_count": 46,
   "metadata": {},
   "outputs": [],
   "source": [
    "# we are given that a value of '-1' indicates missing value for the following columns:\n",
    "# msa_md, state_code, county_code\n",
    "# if such a value exists, we will replace it with NaN\n",
    "test['msa_md'].replace(-1.0, np.NaN,inplace=True)\n",
    "test['state_code'].replace(-1.0, np.NaN,inplace=True)\n",
    "test['county_code'].replace(-1.0, np.NaN,inplace=True)"
   ]
  },
  {
   "cell_type": "code",
   "execution_count": 47,
   "metadata": {},
   "outputs": [
    {
     "data": {
      "text/plain": [
       "row_id                                0\n",
       "loan_type                             0\n",
       "property_type                         0\n",
       "loan_purpose                          0\n",
       "occupancy                             0\n",
       "loan_amount                           0\n",
       "preapproval                           0\n",
       "msa_md                                0\n",
       "state_code                         1229\n",
       "county_code                           0\n",
       "applicant_ethnicity                   0\n",
       "applicant_race                        0\n",
       "applicant_sex                         0\n",
       "applicant_income                  10371\n",
       "population                         1918\n",
       "minority_population_pct            1920\n",
       "ffiecmedian_family_income          1905\n",
       "tract_to_msa_md_income_pct         1946\n",
       "number_of_owner-occupied_units     1933\n",
       "number_of_1_to_4_family_units      1933\n",
       "lender                                0\n",
       "co_applicant                          0\n",
       "dtype: int64"
      ]
     },
     "execution_count": 47,
     "metadata": {},
     "output_type": "execute_result"
    }
   ],
   "source": [
    "# check for null values in the test dataset\n",
    "test.isna().sum()"
   ]
  },
  {
   "cell_type": "code",
   "execution_count": 48,
   "metadata": {},
   "outputs": [
    {
     "name": "stdout",
     "output_type": "stream",
     "text": [
      "Your selected dataframe has 22 columns.\n",
      "There are 8 columns that have missing values.\n"
     ]
    },
    {
     "data": {
      "text/html": [
       "<div>\n",
       "<style scoped>\n",
       "    .dataframe tbody tr th:only-of-type {\n",
       "        vertical-align: middle;\n",
       "    }\n",
       "\n",
       "    .dataframe tbody tr th {\n",
       "        vertical-align: top;\n",
       "    }\n",
       "\n",
       "    .dataframe thead th {\n",
       "        text-align: right;\n",
       "    }\n",
       "</style>\n",
       "<table border=\"1\" class=\"dataframe\">\n",
       "  <thead>\n",
       "    <tr style=\"text-align: right;\">\n",
       "      <th></th>\n",
       "      <th>Missing Values</th>\n",
       "      <th>% of Total Values</th>\n",
       "    </tr>\n",
       "  </thead>\n",
       "  <tbody>\n",
       "    <tr>\n",
       "      <th>applicant_income</th>\n",
       "      <td>10371</td>\n",
       "      <td>5.2</td>\n",
       "    </tr>\n",
       "    <tr>\n",
       "      <th>tract_to_msa_md_income_pct</th>\n",
       "      <td>1946</td>\n",
       "      <td>1.0</td>\n",
       "    </tr>\n",
       "    <tr>\n",
       "      <th>number_of_owner-occupied_units</th>\n",
       "      <td>1933</td>\n",
       "      <td>1.0</td>\n",
       "    </tr>\n",
       "    <tr>\n",
       "      <th>number_of_1_to_4_family_units</th>\n",
       "      <td>1933</td>\n",
       "      <td>1.0</td>\n",
       "    </tr>\n",
       "    <tr>\n",
       "      <th>minority_population_pct</th>\n",
       "      <td>1920</td>\n",
       "      <td>1.0</td>\n",
       "    </tr>\n",
       "    <tr>\n",
       "      <th>population</th>\n",
       "      <td>1918</td>\n",
       "      <td>1.0</td>\n",
       "    </tr>\n",
       "    <tr>\n",
       "      <th>ffiecmedian_family_income</th>\n",
       "      <td>1905</td>\n",
       "      <td>1.0</td>\n",
       "    </tr>\n",
       "    <tr>\n",
       "      <th>state_code</th>\n",
       "      <td>1229</td>\n",
       "      <td>0.6</td>\n",
       "    </tr>\n",
       "  </tbody>\n",
       "</table>\n",
       "</div>"
      ],
      "text/plain": [
       "                                Missing Values  % of Total Values\n",
       "applicant_income                         10371                5.2\n",
       "tract_to_msa_md_income_pct                1946                1.0\n",
       "number_of_owner-occupied_units            1933                1.0\n",
       "number_of_1_to_4_family_units             1933                1.0\n",
       "minority_population_pct                   1920                1.0\n",
       "population                                1918                1.0\n",
       "ffiecmedian_family_income                 1905                1.0\n",
       "state_code                                1229                0.6"
      ]
     },
     "execution_count": 48,
     "metadata": {},
     "output_type": "execute_result"
    }
   ],
   "source": [
    "missing_values_table(test)"
   ]
  },
  {
   "cell_type": "code",
   "execution_count": 49,
   "metadata": {},
   "outputs": [],
   "source": [
    "# we are given that a value of '-1' indicates missing value for the following columns:\n",
    "# msa_md, state_code, county_code\n",
    "# if such a value exists, we will replace it with NaN\n",
    "test['state_code'].fillna(test['state_code'].mode()[0], inplace=True)\n",
    "test['applicant_income'].fillna(test['applicant_income'].mean(), inplace=True)\n",
    "test['population'].fillna(test['population'].mean(), inplace=True)\n",
    "test['minority_population_pct'].fillna(test['minority_population_pct'].mean(), inplace=True)\n",
    "test['ffiecmedian_family_income'].fillna(test['ffiecmedian_family_income'].mean(), inplace=True)\n",
    "test['tract_to_msa_md_income_pct'].fillna(test['tract_to_msa_md_income_pct'].mean(), inplace=True)\n",
    "test['number_of_owner-occupied_units'].fillna(test['number_of_owner-occupied_units'].mean(), inplace=True)\n",
    "test['number_of_1_to_4_family_units'].fillna(test['number_of_1_to_4_family_units'].mean(), inplace=True)"
   ]
  },
  {
   "cell_type": "code",
   "execution_count": 50,
   "metadata": {},
   "outputs": [
    {
     "data": {
      "text/plain": [
       "row_id                            0\n",
       "loan_type                         0\n",
       "property_type                     0\n",
       "loan_purpose                      0\n",
       "occupancy                         0\n",
       "loan_amount                       0\n",
       "preapproval                       0\n",
       "msa_md                            0\n",
       "state_code                        0\n",
       "county_code                       0\n",
       "applicant_ethnicity               0\n",
       "applicant_race                    0\n",
       "applicant_sex                     0\n",
       "applicant_income                  0\n",
       "population                        0\n",
       "minority_population_pct           0\n",
       "ffiecmedian_family_income         0\n",
       "tract_to_msa_md_income_pct        0\n",
       "number_of_owner-occupied_units    0\n",
       "number_of_1_to_4_family_units     0\n",
       "lender                            0\n",
       "co_applicant                      0\n",
       "dtype: int64"
      ]
     },
     "execution_count": 50,
     "metadata": {},
     "output_type": "execute_result"
    }
   ],
   "source": [
    "# check for null values in the test dataset after imputing\n",
    "test.isna().sum()"
   ]
  },
  {
   "cell_type": "markdown",
   "metadata": {},
   "source": [
    "### **Exploratory Data Analysis**"
   ]
  },
  {
   "cell_type": "markdown",
   "metadata": {},
   "source": [
    "#### Display the statistics of the training dataset"
   ]
  },
  {
   "cell_type": "code",
   "execution_count": 51,
   "metadata": {},
   "outputs": [
    {
     "data": {
      "text/html": [
       "<div>\n",
       "<style scoped>\n",
       "    .dataframe tbody tr th:only-of-type {\n",
       "        vertical-align: middle;\n",
       "    }\n",
       "\n",
       "    .dataframe tbody tr th {\n",
       "        vertical-align: top;\n",
       "    }\n",
       "\n",
       "    .dataframe thead th {\n",
       "        text-align: right;\n",
       "    }\n",
       "</style>\n",
       "<table border=\"1\" class=\"dataframe\">\n",
       "  <thead>\n",
       "    <tr style=\"text-align: right;\">\n",
       "      <th></th>\n",
       "      <th>row_id</th>\n",
       "      <th>loan_type</th>\n",
       "      <th>property_type</th>\n",
       "      <th>loan_purpose</th>\n",
       "      <th>occupancy</th>\n",
       "      <th>loan_amount</th>\n",
       "      <th>preapproval</th>\n",
       "      <th>msa_md</th>\n",
       "      <th>state_code</th>\n",
       "      <th>county_code</th>\n",
       "      <th>...</th>\n",
       "      <th>applicant_income</th>\n",
       "      <th>population</th>\n",
       "      <th>minority_population_pct</th>\n",
       "      <th>ffiecmedian_family_income</th>\n",
       "      <th>tract_to_msa_md_income_pct</th>\n",
       "      <th>number_of_owner-occupied_units</th>\n",
       "      <th>number_of_1_to_4_family_units</th>\n",
       "      <th>lender</th>\n",
       "      <th>co_applicant</th>\n",
       "      <th>rate_spread</th>\n",
       "    </tr>\n",
       "  </thead>\n",
       "  <tbody>\n",
       "    <tr>\n",
       "      <th>count</th>\n",
       "      <td>199997.000000</td>\n",
       "      <td>199997.000000</td>\n",
       "      <td>199997.000000</td>\n",
       "      <td>199997.000000</td>\n",
       "      <td>199997.000000</td>\n",
       "      <td>199997.000000</td>\n",
       "      <td>199997.000000</td>\n",
       "      <td>199997.000000</td>\n",
       "      <td>199997.000000</td>\n",
       "      <td>199997.000000</td>\n",
       "      <td>...</td>\n",
       "      <td>199997.000000</td>\n",
       "      <td>199997.000000</td>\n",
       "      <td>199997.000000</td>\n",
       "      <td>199997.000000</td>\n",
       "      <td>199997.000000</td>\n",
       "      <td>199997.000000</td>\n",
       "      <td>199997.000000</td>\n",
       "      <td>199997.000000</td>\n",
       "      <td>199997.000000</td>\n",
       "      <td>199997.000000</td>\n",
       "    </tr>\n",
       "    <tr>\n",
       "      <th>mean</th>\n",
       "      <td>99999.276074</td>\n",
       "      <td>1.570944</td>\n",
       "      <td>1.154882</td>\n",
       "      <td>1.482612</td>\n",
       "      <td>1.061386</td>\n",
       "      <td>142.577004</td>\n",
       "      <td>2.702946</td>\n",
       "      <td>226.976180</td>\n",
       "      <td>28.530008</td>\n",
       "      <td>166.334515</td>\n",
       "      <td>...</td>\n",
       "      <td>73.618345</td>\n",
       "      <td>5391.100762</td>\n",
       "      <td>34.238297</td>\n",
       "      <td>64594.786796</td>\n",
       "      <td>89.283211</td>\n",
       "      <td>1402.878021</td>\n",
       "      <td>1927.345816</td>\n",
       "      <td>2001.307610</td>\n",
       "      <td>0.383511</td>\n",
       "      <td>1.977655</td>\n",
       "    </tr>\n",
       "    <tr>\n",
       "      <th>std</th>\n",
       "      <td>57734.831617</td>\n",
       "      <td>0.559410</td>\n",
       "      <td>0.365068</td>\n",
       "      <td>0.822160</td>\n",
       "      <td>0.246045</td>\n",
       "      <td>142.559560</td>\n",
       "      <td>0.545661</td>\n",
       "      <td>106.655451</td>\n",
       "      <td>15.490795</td>\n",
       "      <td>92.852504</td>\n",
       "      <td>...</td>\n",
       "      <td>102.829204</td>\n",
       "      <td>2655.697880</td>\n",
       "      <td>27.791187</td>\n",
       "      <td>12660.415790</td>\n",
       "      <td>14.982697</td>\n",
       "      <td>703.319155</td>\n",
       "      <td>882.100128</td>\n",
       "      <td>1271.143333</td>\n",
       "      <td>0.486242</td>\n",
       "      <td>1.613647</td>\n",
       "    </tr>\n",
       "    <tr>\n",
       "      <th>min</th>\n",
       "      <td>0.000000</td>\n",
       "      <td>1.000000</td>\n",
       "      <td>1.000000</td>\n",
       "      <td>1.000000</td>\n",
       "      <td>1.000000</td>\n",
       "      <td>1.000000</td>\n",
       "      <td>1.000000</td>\n",
       "      <td>0.000000</td>\n",
       "      <td>0.000000</td>\n",
       "      <td>0.000000</td>\n",
       "      <td>...</td>\n",
       "      <td>1.000000</td>\n",
       "      <td>7.000000</td>\n",
       "      <td>0.326000</td>\n",
       "      <td>17860.000000</td>\n",
       "      <td>6.193000</td>\n",
       "      <td>3.000000</td>\n",
       "      <td>6.000000</td>\n",
       "      <td>0.000000</td>\n",
       "      <td>0.000000</td>\n",
       "      <td>1.000000</td>\n",
       "    </tr>\n",
       "    <tr>\n",
       "      <th>25%</th>\n",
       "      <td>50000.000000</td>\n",
       "      <td>1.000000</td>\n",
       "      <td>1.000000</td>\n",
       "      <td>1.000000</td>\n",
       "      <td>1.000000</td>\n",
       "      <td>67.000000</td>\n",
       "      <td>2.000000</td>\n",
       "      <td>154.000000</td>\n",
       "      <td>14.000000</td>\n",
       "      <td>83.000000</td>\n",
       "      <td>...</td>\n",
       "      <td>40.000000</td>\n",
       "      <td>3730.000000</td>\n",
       "      <td>11.047000</td>\n",
       "      <td>56763.000000</td>\n",
       "      <td>81.848000</td>\n",
       "      <td>936.000000</td>\n",
       "      <td>1348.000000</td>\n",
       "      <td>963.000000</td>\n",
       "      <td>0.000000</td>\n",
       "      <td>1.000000</td>\n",
       "    </tr>\n",
       "    <tr>\n",
       "      <th>50%</th>\n",
       "      <td>99999.000000</td>\n",
       "      <td>2.000000</td>\n",
       "      <td>1.000000</td>\n",
       "      <td>1.000000</td>\n",
       "      <td>1.000000</td>\n",
       "      <td>116.000000</td>\n",
       "      <td>3.000000</td>\n",
       "      <td>261.000000</td>\n",
       "      <td>30.000000</td>\n",
       "      <td>181.000000</td>\n",
       "      <td>...</td>\n",
       "      <td>59.000000</td>\n",
       "      <td>4986.000000</td>\n",
       "      <td>26.357000</td>\n",
       "      <td>63609.000000</td>\n",
       "      <td>98.619000</td>\n",
       "      <td>1311.000000</td>\n",
       "      <td>1808.000000</td>\n",
       "      <td>1834.000000</td>\n",
       "      <td>0.000000</td>\n",
       "      <td>1.000000</td>\n",
       "    </tr>\n",
       "    <tr>\n",
       "      <th>75%</th>\n",
       "      <td>149998.000000</td>\n",
       "      <td>2.000000</td>\n",
       "      <td>1.000000</td>\n",
       "      <td>2.000000</td>\n",
       "      <td>1.000000</td>\n",
       "      <td>179.000000</td>\n",
       "      <td>3.000000</td>\n",
       "      <td>318.000000</td>\n",
       "      <td>41.000000</td>\n",
       "      <td>249.000000</td>\n",
       "      <td>...</td>\n",
       "      <td>80.000000</td>\n",
       "      <td>6450.000000</td>\n",
       "      <td>51.640000</td>\n",
       "      <td>71175.000000</td>\n",
       "      <td>100.000000</td>\n",
       "      <td>1736.000000</td>\n",
       "      <td>2345.000000</td>\n",
       "      <td>3180.000000</td>\n",
       "      <td>1.000000</td>\n",
       "      <td>2.000000</td>\n",
       "    </tr>\n",
       "    <tr>\n",
       "      <th>max</th>\n",
       "      <td>199999.000000</td>\n",
       "      <td>4.000000</td>\n",
       "      <td>3.000000</td>\n",
       "      <td>3.000000</td>\n",
       "      <td>3.000000</td>\n",
       "      <td>11104.000000</td>\n",
       "      <td>3.000000</td>\n",
       "      <td>408.000000</td>\n",
       "      <td>52.000000</td>\n",
       "      <td>316.000000</td>\n",
       "      <td>...</td>\n",
       "      <td>10042.000000</td>\n",
       "      <td>34126.000000</td>\n",
       "      <td>100.000000</td>\n",
       "      <td>125095.000000</td>\n",
       "      <td>100.000000</td>\n",
       "      <td>8747.000000</td>\n",
       "      <td>13615.000000</td>\n",
       "      <td>4283.000000</td>\n",
       "      <td>1.000000</td>\n",
       "      <td>39.000000</td>\n",
       "    </tr>\n",
       "  </tbody>\n",
       "</table>\n",
       "<p>8 rows × 23 columns</p>\n",
       "</div>"
      ],
      "text/plain": [
       "              row_id      loan_type  property_type   loan_purpose  \\\n",
       "count  199997.000000  199997.000000  199997.000000  199997.000000   \n",
       "mean    99999.276074       1.570944       1.154882       1.482612   \n",
       "std     57734.831617       0.559410       0.365068       0.822160   \n",
       "min         0.000000       1.000000       1.000000       1.000000   \n",
       "25%     50000.000000       1.000000       1.000000       1.000000   \n",
       "50%     99999.000000       2.000000       1.000000       1.000000   \n",
       "75%    149998.000000       2.000000       1.000000       2.000000   \n",
       "max    199999.000000       4.000000       3.000000       3.000000   \n",
       "\n",
       "           occupancy    loan_amount    preapproval         msa_md  \\\n",
       "count  199997.000000  199997.000000  199997.000000  199997.000000   \n",
       "mean        1.061386     142.577004       2.702946     226.976180   \n",
       "std         0.246045     142.559560       0.545661     106.655451   \n",
       "min         1.000000       1.000000       1.000000       0.000000   \n",
       "25%         1.000000      67.000000       2.000000     154.000000   \n",
       "50%         1.000000     116.000000       3.000000     261.000000   \n",
       "75%         1.000000     179.000000       3.000000     318.000000   \n",
       "max         3.000000   11104.000000       3.000000     408.000000   \n",
       "\n",
       "          state_code    county_code  ...  applicant_income     population  \\\n",
       "count  199997.000000  199997.000000  ...     199997.000000  199997.000000   \n",
       "mean       28.530008     166.334515  ...         73.618345    5391.100762   \n",
       "std        15.490795      92.852504  ...        102.829204    2655.697880   \n",
       "min         0.000000       0.000000  ...          1.000000       7.000000   \n",
       "25%        14.000000      83.000000  ...         40.000000    3730.000000   \n",
       "50%        30.000000     181.000000  ...         59.000000    4986.000000   \n",
       "75%        41.000000     249.000000  ...         80.000000    6450.000000   \n",
       "max        52.000000     316.000000  ...      10042.000000   34126.000000   \n",
       "\n",
       "       minority_population_pct  ffiecmedian_family_income  \\\n",
       "count            199997.000000              199997.000000   \n",
       "mean                 34.238297               64594.786796   \n",
       "std                  27.791187               12660.415790   \n",
       "min                   0.326000               17860.000000   \n",
       "25%                  11.047000               56763.000000   \n",
       "50%                  26.357000               63609.000000   \n",
       "75%                  51.640000               71175.000000   \n",
       "max                 100.000000              125095.000000   \n",
       "\n",
       "       tract_to_msa_md_income_pct  number_of_owner-occupied_units  \\\n",
       "count               199997.000000                   199997.000000   \n",
       "mean                    89.283211                     1402.878021   \n",
       "std                     14.982697                      703.319155   \n",
       "min                      6.193000                        3.000000   \n",
       "25%                     81.848000                      936.000000   \n",
       "50%                     98.619000                     1311.000000   \n",
       "75%                    100.000000                     1736.000000   \n",
       "max                    100.000000                     8747.000000   \n",
       "\n",
       "       number_of_1_to_4_family_units         lender   co_applicant  \\\n",
       "count                  199997.000000  199997.000000  199997.000000   \n",
       "mean                     1927.345816    2001.307610       0.383511   \n",
       "std                       882.100128    1271.143333       0.486242   \n",
       "min                         6.000000       0.000000       0.000000   \n",
       "25%                      1348.000000     963.000000       0.000000   \n",
       "50%                      1808.000000    1834.000000       0.000000   \n",
       "75%                      2345.000000    3180.000000       1.000000   \n",
       "max                     13615.000000    4283.000000       1.000000   \n",
       "\n",
       "         rate_spread  \n",
       "count  199997.000000  \n",
       "mean        1.977655  \n",
       "std         1.613647  \n",
       "min         1.000000  \n",
       "25%         1.000000  \n",
       "50%         1.000000  \n",
       "75%         2.000000  \n",
       "max        39.000000  \n",
       "\n",
       "[8 rows x 23 columns]"
      ]
     },
     "execution_count": 51,
     "metadata": {},
     "output_type": "execute_result"
    }
   ],
   "source": [
    "# display statistics\n",
    "train.describe()"
   ]
  },
  {
   "cell_type": "markdown",
   "metadata": {},
   "source": [
    "#### FINDING: The mean() values and minx/max ranges differ between features. We need to normalize these features."
   ]
  },
  {
   "cell_type": "code",
   "execution_count": 52,
   "metadata": {},
   "outputs": [
    {
     "name": "stdout",
     "output_type": "stream",
     "text": [
      "row_id                              int64\n",
      "loan_type                           int64\n",
      "property_type                       int64\n",
      "loan_purpose                        int64\n",
      "occupancy                           int64\n",
      "loan_amount                       float64\n",
      "preapproval                         int64\n",
      "msa_md                              int64\n",
      "state_code                        float64\n",
      "county_code                         int64\n",
      "applicant_ethnicity                 int64\n",
      "applicant_race                      int64\n",
      "applicant_sex                       int64\n",
      "applicant_income                  float64\n",
      "population                        float64\n",
      "minority_population_pct           float64\n",
      "ffiecmedian_family_income         float64\n",
      "tract_to_msa_md_income_pct        float64\n",
      "number_of_owner-occupied_units    float64\n",
      "number_of_1_to_4_family_units     float64\n",
      "lender                              int64\n",
      "co_applicant                        int64\n",
      "rate_spread                       float64\n",
      "dtype: object\n"
     ]
    }
   ],
   "source": [
    "# lets recall the data types\n",
    "print(train.dtypes)"
   ]
  },
  {
   "cell_type": "markdown",
   "metadata": {},
   "source": [
    "#### Histograms of numeric features"
   ]
  },
  {
   "cell_type": "code",
   "execution_count": 54,
   "metadata": {},
   "outputs": [],
   "source": [
    "\n",
    "def plot_histogram_with_overlay(the_array, x_title, the_flag):\n",
    "    \n",
    "    pyplot.hist(the_array, alpha=0.5, bins=50, density=True)\n",
    "\n",
    "    if(the_flag==True):\n",
    "        # find minimum and maximum of xticks, so we know\n",
    "        # where we should compute theoretical distribution\n",
    "        xt = pyplot.xticks()[0]  \n",
    "        xmin, xmax = min(xt), max(xt)  \n",
    "        lnspc = np.linspace(xmin, xmax, len(the_array))\n",
    "\n",
    "        m, s = stats.norm.fit(the_array) # get mean and standard deviation  \n",
    "        pdf_g = stats.norm.pdf(lnspc, m, s) # now get theoretical values in our interval  \n",
    "        # Plot some fancy text to show us what the parameters of the distribution are (mean and standard deviation)\n",
    "        pyplot.text(x=np.min(the_array), y=0.1, s=r\"$\\mu=%0.1f$\" % m + \"\\n\" + r\"$\\sigma=%0.1f$\" % s, color='r')\n",
    "        pyplot.plot(lnspc, pdf_g, label=\"Normal\") # plot it\n",
    "\n",
    "    # Standard plot stuff\n",
    "    pyplot.xlabel(x_title)\n",
    "    pyplot.title('Histogram of ' + x_title )\n",
    "    pyplot.show()\n",
    "        "
   ]
  },
  {
   "cell_type": "code",
   "execution_count": 55,
   "metadata": {},
   "outputs": [],
   "source": [
    "pyplot.rcParams[\"figure.figsize\"]=5,5"
   ]
  },
  {
   "cell_type": "code",
   "execution_count": 56,
   "metadata": {},
   "outputs": [
    {
     "data": {
      "image/png": "[encoded data removed]",
      "text/plain": [
       "<Figure size 500x500 with 1 Axes>"
      ]
     },
     "metadata": {},
     "output_type": "display_data"
    }
   ],
   "source": [
    "plot_histogram_with_overlay(train['loan_amount'], \"Loan Amount\",False)"
   ]
  },
  {
   "cell_type": "code",
   "execution_count": 57,
   "metadata": {},
   "outputs": [
    {
     "name": "stdout",
     "output_type": "stream",
     "text": [
      "11.590830538780665\n"
     ]
    }
   ],
   "source": [
    "# print skewness value\n",
    "print(train['loan_amount'].skew())"
   ]
  },
  {
   "cell_type": "markdown",
   "metadata": {},
   "source": [
    "#### FINDING: Significant right skew is observed for the loan_amount."
   ]
  },
  {
   "cell_type": "code",
   "execution_count": 58,
   "metadata": {},
   "outputs": [
    {
     "data": {
      "image/png": "[encoded data removed]",
      "text/plain": [
       "<Figure size 500x500 with 1 Axes>"
      ]
     },
     "metadata": {},
     "output_type": "display_data"
    }
   ],
   "source": [
    "plot_histogram_with_overlay(train['applicant_income'], \"Applicant_income\", False)"
   ]
  },
  {
   "cell_type": "code",
   "execution_count": 59,
   "metadata": {},
   "outputs": [
    {
     "name": "stdout",
     "output_type": "stream",
     "text": [
      "35.0763739065396\n"
     ]
    }
   ],
   "source": [
    "# print skewness value\n",
    "print(train['applicant_income'].skew())"
   ]
  },
  {
   "cell_type": "markdown",
   "metadata": {},
   "source": [
    "#### FINDING: Significant right skew is observed for the applicant_income."
   ]
  },
  {
   "cell_type": "code",
   "execution_count": 60,
   "metadata": {},
   "outputs": [
    {
     "data": {
      "image/png": "[encoded data removed]",
      "text/plain": [
       "<Figure size 500x500 with 1 Axes>"
      ]
     },
     "metadata": {},
     "output_type": "display_data"
    }
   ],
   "source": [
    "plot_histogram_with_overlay(train['population'], \"Population\",False)"
   ]
  },
  {
   "cell_type": "code",
   "execution_count": 61,
   "metadata": {},
   "outputs": [
    {
     "name": "stdout",
     "output_type": "stream",
     "text": [
      "2.6586075625001104\n"
     ]
    }
   ],
   "source": [
    "# print skewness value\n",
    "print(train['population'].skew())"
   ]
  },
  {
   "cell_type": "markdown",
   "metadata": {},
   "source": [
    "#### FINDING: Significant right skew is observed for the population."
   ]
  },
  {
   "cell_type": "code",
   "execution_count": 63,
   "metadata": {},
   "outputs": [
    {
     "data": {
      "image/png": "[encoded data removed]",
      "text/plain": [
       "<Figure size 500x500 with 1 Axes>"
      ]
     },
     "metadata": {},
     "output_type": "display_data"
    }
   ],
   "source": [
    "plot_histogram_with_overlay(train['minority_population_pct'], \"minority_population_pct\",False)"
   ]
  },
  {
   "cell_type": "markdown",
   "metadata": {},
   "source": [
    "#### FINDING: The histogram for minority_population_pct seems to be exponential."
   ]
  },
  {
   "cell_type": "code",
   "execution_count": 64,
   "metadata": {},
   "outputs": [
    {
     "data": {
      "image/png": "[encoded data removed]",
      "text/plain": [
       "<Figure size 500x500 with 1 Axes>"
      ]
     },
     "metadata": {},
     "output_type": "display_data"
    }
   ],
   "source": [
    "plot_histogram_with_overlay(train['ffiecmedian_family_income'], \"ffiecmedian_family_income\",False)"
   ]
  },
  {
   "cell_type": "code",
   "execution_count": 65,
   "metadata": {},
   "outputs": [
    {
     "name": "stdout",
     "output_type": "stream",
     "text": [
      "0.8122674790937139\n"
     ]
    }
   ],
   "source": [
    "# print skewness value\n",
    "print(train['ffiecmedian_family_income'].skew())"
   ]
  },
  {
   "cell_type": "markdown",
   "metadata": {},
   "source": [
    "#### FINDING: Some small right skew is observed for ffiecmedian_family_income."
   ]
  },
  {
   "cell_type": "code",
   "execution_count": 66,
   "metadata": {},
   "outputs": [
    {
     "data": {
      "image/png": "[encoded data removed]",
      "text/plain": [
       "<Figure size 500x500 with 1 Axes>"
      ]
     },
     "metadata": {},
     "output_type": "display_data"
    }
   ],
   "source": [
    "plot_histogram_with_overlay(train['tract_to_msa_md_income_pct'], \"tract_to_msa_md_income_pct\",False)"
   ]
  },
  {
   "cell_type": "code",
   "execution_count": 67,
   "metadata": {},
   "outputs": [
    {
     "name": "stdout",
     "output_type": "stream",
     "text": [
      "-1.477323845944671\n"
     ]
    }
   ],
   "source": [
    "# print skewness value\n",
    "print(train['tract_to_msa_md_income_pct'].skew())"
   ]
  },
  {
   "cell_type": "markdown",
   "metadata": {},
   "source": [
    "#### FINDING: Significant left skew is observed for tract_to_msa_md_income_pct."
   ]
  },
  {
   "cell_type": "code",
   "execution_count": 68,
   "metadata": {},
   "outputs": [
    {
     "data": {
      "image/png": "[encoded data removed]",
      "text/plain": [
       "<Figure size 500x500 with 1 Axes>"
      ]
     },
     "metadata": {},
     "output_type": "display_data"
    }
   ],
   "source": [
    "plot_histogram_with_overlay(train['number_of_owner-occupied_units'], \"number_of_owner-occupied_units\",False)"
   ]
  },
  {
   "cell_type": "code",
   "execution_count": 69,
   "metadata": {},
   "outputs": [
    {
     "name": "stdout",
     "output_type": "stream",
     "text": [
      "1.877513228558868\n"
     ]
    }
   ],
   "source": [
    "# print skewness value\n",
    "print(train['number_of_owner-occupied_units'].skew())"
   ]
  },
  {
   "cell_type": "markdown",
   "metadata": {},
   "source": [
    "#### FINDING: Some right skew is observed for number_of_owner-occupied_units."
   ]
  },
  {
   "cell_type": "markdown",
   "metadata": {},
   "source": [
    "#### **Categorical features**"
   ]
  },
  {
   "cell_type": "code",
   "execution_count": 70,
   "metadata": {},
   "outputs": [],
   "source": [
    "def frequency_table(col_name):\n",
    "    # Get the value counts and percentages for the specific column\n",
    "    value_counts = train[col_name].value_counts().sort_index()\n",
    "    percentages = train[col_name].value_counts(normalize=True).sort_index() * 100\n",
    "    percentages = percentages.round(2) # Limit to 2 digits of accuracy\n",
    "\n",
    "\n",
    "    # Concatenate the value counts and percentages into a DataFrame\n",
    "    table = pd.concat([value_counts, percentages], axis=1)\n",
    "    table.columns = ['count', 'percentage']\n",
    "\n",
    "    # Print the table\n",
    "    print(table)"
   ]
  },
  {
   "cell_type": "code",
   "execution_count": 71,
   "metadata": {},
   "outputs": [
    {
     "data": {
      "image/png": "[encoded data removed]",
      "text/plain": [
       "<Figure size 2000x500 with 1 Axes>"
      ]
     },
     "metadata": {},
     "output_type": "display_data"
    }
   ],
   "source": [
    "# Checking the frequency distribution of 'loan type' \n",
    "# 1 -- Conventional (any loan other than FHA, VA, FSA, or RHS loans)\n",
    "# 2 -- FHA-insured (Federal Housing Administration)\n",
    "# 3 -- VA-guaranteed (Veterans Administration)\n",
    "# 4 -- FSA/RHS (Farm Service Agency or Rural Housing Service)\n",
    "\n",
    "# Let's view the distribution\n",
    "pyplot.figure(figsize=(20, 5)) \n",
    "sns.countplot(y=\"loan_type\", data=train);"
   ]
  },
  {
   "cell_type": "code",
   "execution_count": 72,
   "metadata": {},
   "outputs": [
    {
     "name": "stdout",
     "output_type": "stream",
     "text": [
      "            count  percentage\n",
      "loan_type                    \n",
      "1           90702       45.35\n",
      "2          106308       53.15\n",
      "3            1082        0.54\n",
      "4            1905        0.95\n"
     ]
    }
   ],
   "source": [
    "frequency_table('loan_type')"
   ]
  },
  {
   "cell_type": "markdown",
   "metadata": {},
   "source": [
    "#### FINDING: It seems that most of the loans are \"FHA-insured\"."
   ]
  },
  {
   "cell_type": "code",
   "execution_count": 73,
   "metadata": {},
   "outputs": [
    {
     "data": {
      "image/png": "[encoded data removed]",
      "text/plain": [
       "<Figure size 2000x500 with 1 Axes>"
      ]
     },
     "metadata": {},
     "output_type": "display_data"
    }
   ],
   "source": [
    "# Checking the frequency distribution of 'property type' \n",
    "# 1 -- One to four-family (other than manufactured housing)\n",
    "# 2 -- Manufactured housing\n",
    "# 3 -- Multifamily\n",
    "\n",
    "# Let's view the distribution\n",
    "pyplot.figure(figsize=(20, 5)) \n",
    "sns.countplot(y=\"property_type\", data=train);"
   ]
  },
  {
   "cell_type": "code",
   "execution_count": 74,
   "metadata": {},
   "outputs": [
    {
     "name": "stdout",
     "output_type": "stream",
     "text": [
      "                count  percentage\n",
      "property_type                    \n",
      "1              169259       84.63\n",
      "2               30500       15.25\n",
      "3                 238        0.12\n"
     ]
    }
   ],
   "source": [
    "frequency_table('property_type')"
   ]
  },
  {
   "cell_type": "markdown",
   "metadata": {},
   "source": [
    "#### FINDING: It seems that '1-4 family' homes are most financed. Also there are no multifamily entries in the training dataset. "
   ]
  },
  {
   "cell_type": "code",
   "execution_count": 75,
   "metadata": {},
   "outputs": [
    {
     "data": {
      "image/png": "[encoded data removed]",
      "text/plain": [
       "<Figure size 2000x500 with 1 Axes>"
      ]
     },
     "metadata": {},
     "output_type": "display_data"
    }
   ],
   "source": [
    "# Checking the frequency distribution of 'loan purpose' \n",
    "# 1 -- Home purchase\n",
    "# 2 -- Home improvement\n",
    "# 3 -- Refinancing\n",
    "\n",
    "# Let's view the distribution\n",
    "pyplot.figure(figsize=(20, 5)) \n",
    "sns.countplot(y=\"loan_purpose\", data=train);"
   ]
  },
  {
   "cell_type": "code",
   "execution_count": 76,
   "metadata": {},
   "outputs": [
    {
     "name": "stdout",
     "output_type": "stream",
     "text": [
      "               count  percentage\n",
      "loan_purpose                    \n",
      "1             146100       73.05\n",
      "2              11273        5.64\n",
      "3              42624       21.31\n"
     ]
    }
   ],
   "source": [
    "frequency_table('loan_purpose')"
   ]
  },
  {
   "cell_type": "markdown",
   "metadata": {},
   "source": [
    "#### FINDING: Most loans are for home purchase."
   ]
  },
  {
   "cell_type": "code",
   "execution_count": 77,
   "metadata": {},
   "outputs": [
    {
     "data": {
      "image/png": "[encoded data removed]",
      "text/plain": [
       "<Figure size 2000x500 with 1 Axes>"
      ]
     },
     "metadata": {},
     "output_type": "display_data"
    }
   ],
   "source": [
    "# Checking the frequency distribution of 'occupancy' \n",
    "# 1 -- Owner-occupied as a principal dwelling\n",
    "# 2 -- Not owner-occupied\n",
    "# 3 -- Not applicable\n",
    "\n",
    "# Let's view the distribution\n",
    "pyplot.figure(figsize=(20, 5)) \n",
    "sns.countplot(y=\"occupancy\", data=train);"
   ]
  },
  {
   "cell_type": "code",
   "execution_count": 78,
   "metadata": {},
   "outputs": [
    {
     "name": "stdout",
     "output_type": "stream",
     "text": [
      "            count  percentage\n",
      "occupancy                    \n",
      "1          188012       94.01\n",
      "2           11693        5.85\n",
      "3             292        0.15\n"
     ]
    }
   ],
   "source": [
    "frequency_table('occupancy')"
   ]
  },
  {
   "cell_type": "markdown",
   "metadata": {},
   "source": [
    "#### FINDING: Most loans are for principal dwelling."
   ]
  },
  {
   "cell_type": "code",
   "execution_count": 79,
   "metadata": {},
   "outputs": [
    {
     "data": {
      "image/png": "[encoded data removed]",
      "text/plain": [
       "<Figure size 2000x500 with 1 Axes>"
      ]
     },
     "metadata": {},
     "output_type": "display_data"
    }
   ],
   "source": [
    "# Checking the frequency distribution of 'preapproval'  requirement\n",
    "# 1 -- Preapproval was requested\n",
    "# 2 -- Preapproval was not requested\n",
    "# 3 -- Not applicable\n",
    "\n",
    "# Let's view the distribution\n",
    "pyplot.figure(figsize=(20, 5)) \n",
    "sns.countplot(y=\"preapproval\", data=train);"
   ]
  },
  {
   "cell_type": "code",
   "execution_count": 80,
   "metadata": {},
   "outputs": [
    {
     "name": "stdout",
     "output_type": "stream",
     "text": [
      "              count  percentage\n",
      "preapproval                    \n",
      "1              8893        4.45\n",
      "2             41624       20.81\n",
      "3            149480       74.74\n"
     ]
    }
   ],
   "source": [
    "frequency_table('preapproval')"
   ]
  },
  {
   "cell_type": "markdown",
   "metadata": {},
   "source": [
    "#### FINDING: Preapproval was not required for most cases."
   ]
  },
  {
   "cell_type": "code",
   "execution_count": 81,
   "metadata": {},
   "outputs": [
    {
     "data": {
      "image/png": "[encoded data removed]",
      "text/plain": [
       "<Figure size 2000x500 with 1 Axes>"
      ]
     },
     "metadata": {},
     "output_type": "display_data"
    }
   ],
   "source": [
    "# Checking the frequency distribution of 'applicant ethnicity'\n",
    "# 1 -- Hispanic or Latino\n",
    "# 2 -- Not Hispanic or Latino\n",
    "# 3 -- Information not provided by applicant in mail, Internet, or telephone application\n",
    "# 4 -- Not applicable\n",
    "# 5 -- No co-applicant\n",
    "\n",
    "# Let's view the distribution\n",
    "pyplot.figure(figsize=(20, 5)) \n",
    "sns.countplot(y=\"applicant_ethnicity\", data=train);"
   ]
  },
  {
   "cell_type": "code",
   "execution_count": 82,
   "metadata": {},
   "outputs": [
    {
     "name": "stdout",
     "output_type": "stream",
     "text": [
      "                      count  percentage\n",
      "applicant_ethnicity                    \n",
      "1                     34814       17.41\n",
      "2                    148018       74.01\n",
      "3                     16451        8.23\n",
      "4                       714        0.36\n"
     ]
    }
   ],
   "source": [
    "frequency_table('applicant_ethnicity')"
   ]
  },
  {
   "cell_type": "markdown",
   "metadata": {},
   "source": [
    "#### FINDING: Mortgages were rewarded mostly to \"not hispanic or latino\""
   ]
  },
  {
   "cell_type": "code",
   "execution_count": 83,
   "metadata": {},
   "outputs": [
    {
     "data": {
      "image/png": "[encoded data removed]",
      "text/plain": [
       "<Figure size 2000x500 with 1 Axes>"
      ]
     },
     "metadata": {},
     "output_type": "display_data"
    }
   ],
   "source": [
    "# Checking the frequency distribution of 'applicant race'\n",
    "# 1 -- American Indian or Alaska Native\n",
    "# 2 -- Asian\n",
    "# 3 -- Black or African American\n",
    "# 4 -- Native Hawaiian or Other Pacific Islander\n",
    "# 5 -- White\n",
    "# 6 -- Information not provided by applicant in mail, Internet, or telephone application\n",
    "# 7 -- Not applicable\n",
    "# 8 -- No co-applicant\n",
    "\n",
    "# Let's view the distribution\n",
    "pyplot.figure(figsize=(20, 5)) \n",
    "sns.countplot(y=\"applicant_race\", data=train);"
   ]
  },
  {
   "cell_type": "code",
   "execution_count": 84,
   "metadata": {},
   "outputs": [
    {
     "name": "stdout",
     "output_type": "stream",
     "text": [
      "                 count  percentage\n",
      "applicant_race                    \n",
      "1                 1688        0.84\n",
      "2                 4606        2.30\n",
      "3                20752       10.38\n",
      "4                  684        0.34\n",
      "5               157614       78.81\n",
      "6                14011        7.01\n",
      "7                  642        0.32\n"
     ]
    }
   ],
   "source": [
    "frequency_table('applicant_race')"
   ]
  },
  {
   "cell_type": "markdown",
   "metadata": {},
   "source": [
    "#### FINDING: Loan approvals were overwhelmingly granted to whites."
   ]
  },
  {
   "cell_type": "markdown",
   "metadata": {},
   "source": [
    "#### FINDING: There are no rows where applicant_race = 8.0"
   ]
  },
  {
   "cell_type": "code",
   "execution_count": 85,
   "metadata": {},
   "outputs": [
    {
     "data": {
      "image/png": "[encoded data removed]",
      "text/plain": [
       "<Figure size 2000x500 with 1 Axes>"
      ]
     },
     "metadata": {},
     "output_type": "display_data"
    }
   ],
   "source": [
    "# Checking the frequency distribution of 'applicant sex'\n",
    "# 1 -- Male\n",
    "# 2 -- Female\n",
    "# 3 -- Information not provided by applicant in mail, Internet, or telephone application\n",
    "# 4 or 5 -- Not applicable\n",
    "\n",
    "# Let's view the distribution\n",
    "pyplot.figure(figsize=(20, 5)) \n",
    "sns.countplot(y=\"applicant_sex\", data=train);"
   ]
  },
  {
   "cell_type": "code",
   "execution_count": 86,
   "metadata": {},
   "outputs": [
    {
     "name": "stdout",
     "output_type": "stream",
     "text": [
      "                count  percentage\n",
      "applicant_sex                    \n",
      "1              124996       62.50\n",
      "2               66975       33.49\n",
      "3                7545        3.77\n",
      "4                 481        0.24\n"
     ]
    }
   ],
   "source": [
    "frequency_table('applicant_sex')"
   ]
  },
  {
   "cell_type": "markdown",
   "metadata": {},
   "source": [
    "#### FINDING: Most loans were granted to males. \n",
    "#### FINDING: There are no rows where applicant_sex = 5.0."
   ]
  },
  {
   "cell_type": "code",
   "execution_count": 87,
   "metadata": {},
   "outputs": [
    {
     "data": {
      "image/png": "[encoded data removed]",
      "text/plain": [
       "<Figure size 2000x500 with 1 Axes>"
      ]
     },
     "metadata": {},
     "output_type": "display_data"
    }
   ],
   "source": [
    "# Checking the frequency distribution of 'co applicant'\n",
    "# 0 -- no spouse\n",
    "# 1 -- spouse\n",
    "\n",
    "# Let's view the distribution\n",
    "pyplot.figure(figsize=(20, 5)) \n",
    "sns.countplot(y=\"co_applicant\", data=train);"
   ]
  },
  {
   "cell_type": "code",
   "execution_count": 88,
   "metadata": {},
   "outputs": [
    {
     "name": "stdout",
     "output_type": "stream",
     "text": [
      "               count  percentage\n",
      "co_applicant                    \n",
      "0             123296       61.65\n",
      "1              76701       38.35\n"
     ]
    }
   ],
   "source": [
    "frequency_table('co_applicant')"
   ]
  },
  {
   "cell_type": "markdown",
   "metadata": {},
   "source": [
    "#### FINDING: Almost twice as many mortgages are granted to no-spouse applicants (single applicants)."
   ]
  },
  {
   "cell_type": "markdown",
   "metadata": {},
   "source": [
    "#### **Relationships between the categorical features and the dependent variable**"
   ]
  },
  {
   "cell_type": "code",
   "execution_count": 89,
   "metadata": {},
   "outputs": [
    {
     "data": {
      "text/plain": [
       "<Axes: xlabel='loan_type', ylabel='rate_spread'>"
      ]
     },
     "execution_count": 89,
     "metadata": {},
     "output_type": "execute_result"
    },
    {
     "data": {
      "image/png": "[encoded data removed]",
      "text/plain": [
       "<Figure size 1000x1000 with 1 Axes>"
      ]
     },
     "metadata": {},
     "output_type": "display_data"
    }
   ],
   "source": [
    "# Checking the frequency distribution of 'loan type' \n",
    "# 1 -- Conventional (any loan other than FHA, VA, FSA, or RHS loans)\n",
    "# 2 -- FHA-insured (Federal Housing Administration)\n",
    "# 3 -- VA-guaranteed (Veterans Administration)\n",
    "# 4 -- FSA/RHS (Farm Service Agency or Rural Housing Service)\n",
    "\n",
    "pyplot.figure(figsize=(10, 10)) \n",
    "sns.boxplot(x='loan_type',y='rate_spread',data=train)"
   ]
  },
  {
   "cell_type": "markdown",
   "metadata": {},
   "source": [
    "#### FINDING: The average rate spread is higher for conventional loans."
   ]
  },
  {
   "cell_type": "code",
   "execution_count": 90,
   "metadata": {},
   "outputs": [
    {
     "data": {
      "text/plain": [
       "<Axes: xlabel='property_type', ylabel='rate_spread'>"
      ]
     },
     "execution_count": 90,
     "metadata": {},
     "output_type": "execute_result"
    },
    {
     "data": {
      "image/png": "[encoded data removed]",
      "text/plain": [
       "<Figure size 1000x1000 with 1 Axes>"
      ]
     },
     "metadata": {},
     "output_type": "display_data"
    }
   ],
   "source": [
    "# Checking the frequency distribution of 'property type' \n",
    "# 1 -- One to four-family (other than manufactured housing)\n",
    "# 2 -- Manufactured housing\n",
    "# 3 -- Multifamily\n",
    "\n",
    "pyplot.figure(figsize=(10,10)) \n",
    "sns.boxplot(x='property_type',y='rate_spread',data=train)"
   ]
  },
  {
   "cell_type": "markdown",
   "metadata": {},
   "source": [
    "#### FINDING: One-to-four family loans have the lowest average rate_spread"
   ]
  },
  {
   "cell_type": "code",
   "execution_count": 91,
   "metadata": {},
   "outputs": [
    {
     "data": {
      "text/plain": [
       "<Axes: xlabel='loan_purpose', ylabel='rate_spread'>"
      ]
     },
     "execution_count": 91,
     "metadata": {},
     "output_type": "execute_result"
    },
    {
     "data": {
      "image/png": "[encoded data removed]",
      "text/plain": [
       "<Figure size 1000x1000 with 1 Axes>"
      ]
     },
     "metadata": {},
     "output_type": "display_data"
    }
   ],
   "source": [
    "# Checking the frequency distribution of 'loan purpose' \n",
    "# 1 -- Home purchase\n",
    "# 2 -- Home improvement\n",
    "# 3 -- Refinancing\n",
    "\n",
    "pyplot.figure(figsize=(10,10)) \n",
    "sns.boxplot(x='loan_purpose',y='rate_spread',data=train)"
   ]
  },
  {
   "cell_type": "markdown",
   "metadata": {},
   "source": [
    "#### FINDING: Home reimprovement loans have a higher average rate spread."
   ]
  },
  {
   "cell_type": "code",
   "execution_count": 92,
   "metadata": {},
   "outputs": [
    {
     "data": {
      "text/plain": [
       "<Axes: xlabel='occupancy', ylabel='rate_spread'>"
      ]
     },
     "execution_count": 92,
     "metadata": {},
     "output_type": "execute_result"
    },
    {
     "data": {
      "image/png": "[encoded data removed]",
      "text/plain": [
       "<Figure size 1000x1000 with 1 Axes>"
      ]
     },
     "metadata": {},
     "output_type": "display_data"
    }
   ],
   "source": [
    "# Checking the frequency distribution of 'occupancy' \n",
    "# 1 -- Owner-occupied as a principal dwelling\n",
    "# 2 -- Not owner-occupied\n",
    "# 3 -- Not applicable\n",
    "\n",
    "pyplot.figure(figsize=(10,10)) \n",
    "sns.boxplot(x='occupancy',y='rate_spread',data=train)"
   ]
  },
  {
   "cell_type": "markdown",
   "metadata": {},
   "source": [
    "#### FINDING: Unknown or \"not applicable\" occupancy has the highest average loan spread."
   ]
  },
  {
   "cell_type": "code",
   "execution_count": 93,
   "metadata": {},
   "outputs": [
    {
     "data": {
      "text/plain": [
       "<Axes: xlabel='preapproval', ylabel='rate_spread'>"
      ]
     },
     "execution_count": 93,
     "metadata": {},
     "output_type": "execute_result"
    },
    {
     "data": {
      "image/png": "[encoded data removed]",
      "text/plain": [
       "<Figure size 1000x1000 with 1 Axes>"
      ]
     },
     "metadata": {},
     "output_type": "display_data"
    }
   ],
   "source": [
    "# Checking the frequency distribution of 'preapproval'  requirement\n",
    "# 1 -- Preapproval was requested\n",
    "# 2 -- Preapproval was not requested\n",
    "# 3 -- Not applicable\n",
    "\n",
    "pyplot.figure(figsize=(10,10)) \n",
    "sns.boxplot(x='preapproval',y='rate_spread',data=train)"
   ]
  },
  {
   "cell_type": "markdown",
   "metadata": {},
   "source": [
    "#### FINDING: Preapproval was not a significant requirement."
   ]
  },
  {
   "cell_type": "code",
   "execution_count": 94,
   "metadata": {},
   "outputs": [
    {
     "data": {
      "text/plain": [
       "<Axes: xlabel='applicant_ethnicity', ylabel='rate_spread'>"
      ]
     },
     "execution_count": 94,
     "metadata": {},
     "output_type": "execute_result"
    },
    {
     "data": {
      "image/png": "[encoded data removed]",
      "text/plain": [
       "<Figure size 1000x1000 with 1 Axes>"
      ]
     },
     "metadata": {},
     "output_type": "display_data"
    }
   ],
   "source": [
    "# Checking the frequency distribution of 'applicant ethnicity'\n",
    "# 1 -- Hispanic or Latino\n",
    "# 2 -- Not Hispanic or Latino\n",
    "# 3 -- Information not provided by applicant in mail, Internet, or telephone pplication\n",
    "# 4 -- Not applicable\n",
    "# 5 -- No co-applicant\n",
    "\n",
    "pyplot.figure(figsize=(10,10)) \n",
    "sns.boxplot(x='applicant_ethnicity',y='rate_spread',data=train)"
   ]
  },
  {
   "cell_type": "markdown",
   "metadata": {},
   "source": [
    "#### FINDING: If ethnicity information is not provided by the applicant, the average rate spread is much higher. THIS IS VERY ALARMING."
   ]
  },
  {
   "cell_type": "code",
   "execution_count": 95,
   "metadata": {},
   "outputs": [
    {
     "data": {
      "text/plain": [
       "<Axes: xlabel='applicant_race', ylabel='rate_spread'>"
      ]
     },
     "execution_count": 95,
     "metadata": {},
     "output_type": "execute_result"
    },
    {
     "data": {
      "image/png": "[encoded data removed]",
      "text/plain": [
       "<Figure size 1000x1500 with 1 Axes>"
      ]
     },
     "metadata": {},
     "output_type": "display_data"
    }
   ],
   "source": [
    "# Checking the frequency distribution of 'applicant race'\n",
    "# 1 -- American Indian or Alaska Native\n",
    "# 2 -- Asian\n",
    "# 3 -- Black or African American\n",
    "# 4 -- Native Hawaiian or Other Pacific Islander\n",
    "# 5 -- White\n",
    "# 6 -- Information not provided by applicant in mail, Internet, or telephone application\n",
    "# 7 -- Not applicable\n",
    "# 8 -- No co-applicant\n",
    "\n",
    "pyplot.figure(figsize=(10,15)) \n",
    "sns.boxplot(x='applicant_race',y='rate_spread',data=train)"
   ]
  },
  {
   "cell_type": "markdown",
   "metadata": {},
   "source": [
    "#### FINDING: Average rate spread is much higher for \"American Indian or Alaska Natives\". \n",
    "#### FINDING: Similar to ethnicity, if race information is not provided by the applicant, the standard deviation for rate spread is much greater than others."
   ]
  },
  {
   "cell_type": "code",
   "execution_count": 96,
   "metadata": {},
   "outputs": [
    {
     "data": {
      "text/plain": [
       "<Axes: xlabel='applicant_sex', ylabel='rate_spread'>"
      ]
     },
     "execution_count": 96,
     "metadata": {},
     "output_type": "execute_result"
    },
    {
     "data": {
      "image/png": "[encoded data removed]",
      "text/plain": [
       "<Figure size 1000x1000 with 1 Axes>"
      ]
     },
     "metadata": {},
     "output_type": "display_data"
    }
   ],
   "source": [
    "# Checking the frequency distribution of 'applicant sex'\n",
    "# 1 -- Male\n",
    "# 2 -- Female\n",
    "# 3 -- Information not provided by applicant in mail, Internet, or telephone application\n",
    "# 4 or 5 -- Not applicable\n",
    "\n",
    "pyplot.figure(figsize=(10,10)) \n",
    "sns.boxplot(x='applicant_sex',y='rate_spread',data=train)"
   ]
  },
  {
   "cell_type": "markdown",
   "metadata": {},
   "source": [
    "#### FINDING: While the average rate spread is pretty much equal, if the applicant does not specify gender, then the standard deviation of rate spread is higher. "
   ]
  },
  {
   "cell_type": "code",
   "execution_count": 97,
   "metadata": {},
   "outputs": [
    {
     "data": {
      "text/plain": [
       "<Axes: xlabel='co_applicant', ylabel='rate_spread'>"
      ]
     },
     "execution_count": 97,
     "metadata": {},
     "output_type": "execute_result"
    },
    {
     "data": {
      "image/png": "[encoded data removed]",
      "text/plain": [
       "<Figure size 1000x1000 with 1 Axes>"
      ]
     },
     "metadata": {},
     "output_type": "display_data"
    }
   ],
   "source": [
    "# Checking the frequency distribution of 'co applicant'\n",
    "# 0 -- no spouse\n",
    "# 1 -- spouse\n",
    "\n",
    "pyplot.figure(figsize=(10,10)) \n",
    "sns.boxplot(x='co_applicant',y='rate_spread',data=train)"
   ]
  },
  {
   "cell_type": "markdown",
   "metadata": {},
   "source": [
    "#### FINDING: There is not much difference in resulting rate spread for different co applicant types. "
   ]
  },
  {
   "cell_type": "markdown",
   "metadata": {},
   "source": [
    "## Feature Engineering"
   ]
  },
  {
   "cell_type": "markdown",
   "metadata": {},
   "source": [
    "### Transforming  the training dataset"
   ]
  },
  {
   "cell_type": "code",
   "execution_count": null,
   "metadata": {},
   "outputs": [],
   "source": [
    "print(train.dtypes)"
   ]
  },
  {
   "cell_type": "code",
   "execution_count": null,
   "metadata": {},
   "outputs": [],
   "source": [
    "# we will apply log transformation to 'loan_amount' since its histogram had skew\n",
    "# we are adding a new feature\n",
    "train['log_of_loan_amount'] = np.log(train['loan_amount'])\n",
    "# check the histogram after log transformation\n",
    "plot_histogram_with_overlay(train['log_of_loan_amount'], \"Log of loan_amount\", True)"
   ]
  },
  {
   "cell_type": "code",
   "execution_count": null,
   "metadata": {},
   "outputs": [],
   "source": [
    "# we will apply log transformation to 'applicant_income' since its histogram had skew\n",
    "# we are adding a new feature\n",
    "train['log_of_applicant_income'] = np.log(train['applicant_income'])\n",
    "# check the histogram after log transformation\n",
    "plot_histogram_with_overlay(train['log_of_applicant_income'], \"Log of applicant_income\",True)"
   ]
  },
  {
   "cell_type": "code",
   "execution_count": null,
   "metadata": {},
   "outputs": [],
   "source": [
    "# we will apply log transformation to 'population' since its histogram had skew\n",
    "# we are adding a new feature\n",
    "train['log_of_population'] = np.log(train['population'])\n",
    "# check the histogram after log transformation\n",
    "plot_histogram_with_overlay(train['log_of_population'], \"Log of Population\",True)"
   ]
  },
  {
   "cell_type": "code",
   "execution_count": null,
   "metadata": {},
   "outputs": [],
   "source": [
    "from scipy.stats import boxcox\n",
    "# we will apply square root transformation to 'minority_population_pct' \n",
    "# since its histogram had a decaying exponential skew\n",
    "# we are adding a new feature\n",
    "train['sqrt_of_minority_population_pct'] = boxcox(train['minority_population_pct'],0.5)\n",
    "# check the histogram after log transformation\n",
    "plot_histogram_with_overlay(train['sqrt_of_minority_population_pct'], \"Sqrt of minority_population_pct\",True)"
   ]
  },
  {
   "cell_type": "code",
   "execution_count": null,
   "metadata": {},
   "outputs": [],
   "source": [
    "# we will apply log transformation to 'ffiecmedian_family_income' since its histogram had skew\n",
    "# we are adding a new feature\n",
    "train['log_of_ffiecmedian_family_income'] = np.log(train['ffiecmedian_family_income'])\n",
    "# check the histogram after log transformation\n",
    "plot_histogram_with_overlay(train['log_of_ffiecmedian_family_income'], \"log_of_ffiecmedian_family_income\",True)"
   ]
  },
  {
   "cell_type": "code",
   "execution_count": null,
   "metadata": {},
   "outputs": [],
   "source": [
    "# we will apply log transformation to 'tract_to_msa_md_income_pct' since its histogram had skew\n",
    "# we are adding a new feature\n",
    "train['log_of_tract_to_msa_md_income_pct'] = np.log(train['tract_to_msa_md_income_pct'])\n",
    "# check the histogram after log transformation\n",
    "plot_histogram_with_overlay(train['log_of_tract_to_msa_md_income_pct'], \"log_of_tract_to_msa_md_income_pct\",True)"
   ]
  },
  {
   "cell_type": "code",
   "execution_count": null,
   "metadata": {},
   "outputs": [],
   "source": [
    "# we will apply log transformation to 'number_of_owner-occupied_units' since its histogram had skew\n",
    "# we are adding a new feature\n",
    "train['log_of_number_of_owner-occupied_units'] = np.log(train['number_of_owner-occupied_units'])\n",
    "# check the histogram after log transformation\n",
    "plot_histogram_with_overlay(train['log_of_number_of_owner-occupied_units'], \"log_of_number_of_owner-occupied_units\",True)"
   ]
  },
  {
   "cell_type": "code",
   "execution_count": null,
   "metadata": {},
   "outputs": [],
   "source": [
    "# we will apply log transformation to 'number_of_1_to_4_family_units' since its histogram had skew\n",
    "# we are adding a new feature\n",
    "train['log_of_number_of_1_to_4_family_units'] = np.log(train['number_of_1_to_4_family_units'])\n",
    "# check the histogram after log transformation\n",
    "plot_histogram_with_overlay(train['log_of_number_of_1_to_4_family_units'], \"log_of_number_of_1_to_4_family_units\",True)"
   ]
  },
  {
   "cell_type": "markdown",
   "metadata": {},
   "source": [
    "### Binning the training dataset"
   ]
  },
  {
   "cell_type": "code",
   "execution_count": null,
   "metadata": {},
   "outputs": [],
   "source": [
    "# binning msa_md\n",
    "def bin_msa_md(x):\n",
    "    if 49 >= x >= 0: return 0\n",
    "    elif 99 >= x >= 50: return 1\n",
    "    elif 149 >= x >= 100: return 2\n",
    "    elif 199 >= x >= 150: return 3\n",
    "    elif 249 >= x >= 200: return 4\n",
    "    elif 299 >= x >= 250: return 5\n",
    "    elif 349 >= x >= 300: return 6\n",
    "    elif 399 >= x >= 350: return 7\n",
    "    elif 449 >= x >= 400: return 8\n",
    "    else : return 9"
   ]
  },
  {
   "cell_type": "code",
   "execution_count": null,
   "metadata": {},
   "outputs": [],
   "source": [
    "train['msa_md_group'] = train['msa_md'].map(bin_msa_md)"
   ]
  },
  {
   "cell_type": "code",
   "execution_count": null,
   "metadata": {},
   "outputs": [],
   "source": [
    "plot_histogram_with_overlay(train['msa_md_group'], \"msa_md_group\",False)"
   ]
  },
  {
   "cell_type": "code",
   "execution_count": null,
   "metadata": {},
   "outputs": [],
   "source": [
    "plot_histogram_with_overlay(train['county_code'], \"county_code\",False)"
   ]
  },
  {
   "cell_type": "code",
   "execution_count": null,
   "metadata": {},
   "outputs": [],
   "source": [
    "# binning county_code\n",
    "\n",
    "def bin_county_code(x):\n",
    "    if 49 >= x >= 0: return 0\n",
    "    elif 99 >= x >= 50: return 1\n",
    "    elif 149 >= x >= 100: return 2\n",
    "    elif 199 >= x >= 150: return 3\n",
    "    elif 249 >= x >= 200: return 4\n",
    "    elif 299 >= x >= 250: return 5\n",
    "    elif 349 >= x >= 300: return 6\n",
    "    elif 399 >= x >= 350: return 7\n",
    "    elif 449 >= x >= 400: return 8\n",
    "    else : return 9"
   ]
  },
  {
   "cell_type": "code",
   "execution_count": null,
   "metadata": {},
   "outputs": [],
   "source": [
    "train['county_group'] = train['county_code'].map(bin_county_code)"
   ]
  },
  {
   "cell_type": "code",
   "execution_count": null,
   "metadata": {},
   "outputs": [],
   "source": [
    "plot_histogram_with_overlay(train['county_group'], \"county_group\",False)"
   ]
  },
  {
   "cell_type": "code",
   "execution_count": null,
   "metadata": {},
   "outputs": [],
   "source": [
    "plot_histogram_with_overlay(train['lender'], \"lender\",False)"
   ]
  },
  {
   "cell_type": "code",
   "execution_count": null,
   "metadata": {},
   "outputs": [],
   "source": [
    "# binning lender\n",
    "\n",
    "def bin_lender(x):\n",
    "    if 499 >= x >= 0: return 0\n",
    "    elif 999 >= x >= 500: return 1\n",
    "    elif 1499 >= x >= 1000: return 2\n",
    "    elif 1999 >= x >= 1500: return 3\n",
    "    elif 2499 >= x >= 2000: return 4\n",
    "    elif 2999 >= x >= 2500: return 5\n",
    "    elif 3499 >= x >= 3000: return 6\n",
    "    elif 3999 >= x >= 3500: return 7\n",
    "    elif 4499 >= x >= 4000: return 8\n",
    "    else : return 9"
   ]
  },
  {
   "cell_type": "code",
   "execution_count": null,
   "metadata": {},
   "outputs": [],
   "source": [
    "train['lender_group'] = train['lender'].map(bin_lender)"
   ]
  },
  {
   "cell_type": "code",
   "execution_count": null,
   "metadata": {},
   "outputs": [],
   "source": [
    "plot_histogram_with_overlay(train['lender_group'], \"lender_group\",False)"
   ]
  },
  {
   "cell_type": "markdown",
   "metadata": {},
   "source": [
    "### Setting the data types for categorical features of the training dataset"
   ]
  },
  {
   "cell_type": "code",
   "execution_count": null,
   "metadata": {},
   "outputs": [],
   "source": [
    "# check the resulting data types for training dataset\n",
    "print(train.dtypes)"
   ]
  },
  {
   "cell_type": "code",
   "execution_count": null,
   "metadata": {},
   "outputs": [],
   "source": [
    "# check the resulting data types for training dataset\n",
    "print(train.dtypes)"
   ]
  },
  {
   "cell_type": "markdown",
   "metadata": {},
   "source": [
    "### Transforming the test dataset"
   ]
  },
  {
   "cell_type": "code",
   "execution_count": null,
   "metadata": {},
   "outputs": [],
   "source": [
    "plot_histogram_with_overlay(test['loan_amount'], \"loan_amount\",False)"
   ]
  },
  {
   "cell_type": "code",
   "execution_count": null,
   "metadata": {},
   "outputs": [],
   "source": [
    "test['log_of_loan_amount'] = np.log(test['loan_amount'])\n",
    "plot_histogram_with_overlay(test['log_of_loan_amount'], \"Log of loan_amount\",True)"
   ]
  },
  {
   "cell_type": "code",
   "execution_count": null,
   "metadata": {},
   "outputs": [],
   "source": [
    "plot_histogram_with_overlay(test['applicant_income'], \"applicant_income\",False)"
   ]
  },
  {
   "cell_type": "code",
   "execution_count": null,
   "metadata": {},
   "outputs": [],
   "source": [
    "test['log_of_applicant_income'] = np.log(test['applicant_income'])\n",
    "plot_histogram_with_overlay(test['log_of_applicant_income'], \"Log of applicant_income\",True)"
   ]
  },
  {
   "cell_type": "code",
   "execution_count": null,
   "metadata": {},
   "outputs": [],
   "source": [
    "plot_histogram_with_overlay(test['population'], \"population\",False)"
   ]
  },
  {
   "cell_type": "code",
   "execution_count": null,
   "metadata": {},
   "outputs": [],
   "source": [
    "test['log_of_population'] = np.log(test['population'])\n",
    "plot_histogram_with_overlay(test['log_of_population'], \"Log of Population\",True)"
   ]
  },
  {
   "cell_type": "code",
   "execution_count": null,
   "metadata": {},
   "outputs": [],
   "source": [
    "plot_histogram_with_overlay(test['minority_population_pct'], \"minority_population_pct\",False)"
   ]
  },
  {
   "cell_type": "code",
   "execution_count": null,
   "metadata": {},
   "outputs": [],
   "source": [
    "from scipy.stats import boxcox\n",
    "test['sqrt_of_minority_population_pct'] = boxcox(test['minority_population_pct'],0.5)\n",
    "plot_histogram_with_overlay(test['sqrt_of_minority_population_pct'], \"Sqrt of minority_population_pct\",True)"
   ]
  },
  {
   "cell_type": "code",
   "execution_count": null,
   "metadata": {},
   "outputs": [],
   "source": [
    "plot_histogram_with_overlay(test['ffiecmedian_family_income'], \"ffiecmedian_family_income\",False)"
   ]
  },
  {
   "cell_type": "code",
   "execution_count": null,
   "metadata": {},
   "outputs": [],
   "source": [
    "test['log_of_ffiecmedian_family_income'] = np.log(test['ffiecmedian_family_income'])\n",
    "plot_histogram_with_overlay(test['log_of_ffiecmedian_family_income'], \"log_of_ffiecmedian_family_income\",True)"
   ]
  },
  {
   "cell_type": "code",
   "execution_count": null,
   "metadata": {},
   "outputs": [],
   "source": [
    "plot_histogram_with_overlay(test['tract_to_msa_md_income_pct'], \"tract_to_msa_md_income_pct\",False)"
   ]
  },
  {
   "cell_type": "code",
   "execution_count": null,
   "metadata": {},
   "outputs": [],
   "source": [
    "test['log_of_tract_to_msa_md_income_pct'] = np.log(test['tract_to_msa_md_income_pct'])\n",
    "plot_histogram_with_overlay(test['log_of_tract_to_msa_md_income_pct'], \"log_of_tract_to_msa_md_income_pct\",True)"
   ]
  },
  {
   "cell_type": "code",
   "execution_count": null,
   "metadata": {},
   "outputs": [],
   "source": [
    "plot_histogram_with_overlay(test['number_of_owner-occupied_units'], \"number_of_owner-occupied_units\",False)"
   ]
  },
  {
   "cell_type": "code",
   "execution_count": null,
   "metadata": {},
   "outputs": [],
   "source": [
    "test['log_of_number_of_owner-occupied_units'] = np.log(test['number_of_owner-occupied_units'])\n",
    "plot_histogram_with_overlay(test['log_of_number_of_owner-occupied_units'], \"log_of_number_of_owner-occupied_units\",True)"
   ]
  },
  {
   "cell_type": "code",
   "execution_count": null,
   "metadata": {},
   "outputs": [],
   "source": [
    "plot_histogram_with_overlay(train['number_of_1_to_4_family_units'], \"number_of_1_to_4_family_units\",False)"
   ]
  },
  {
   "cell_type": "code",
   "execution_count": null,
   "metadata": {},
   "outputs": [],
   "source": [
    "test['log_of_number_of_1_to_4_family_units'] = np.log(test['number_of_1_to_4_family_units'])\n",
    "plot_histogram_with_overlay(train['log_of_number_of_1_to_4_family_units'], \"log_of_number_of_1_to_4_family_units\",True)"
   ]
  },
  {
   "cell_type": "markdown",
   "metadata": {},
   "source": [
    "### Binning the test dataset"
   ]
  },
  {
   "cell_type": "code",
   "execution_count": null,
   "metadata": {},
   "outputs": [],
   "source": [
    "test['msa_md_group'] = test['msa_md'].map(bin_msa_md)\n",
    "test['county_group'] = test['county_code'].map(bin_county_code)\n",
    "test['lender_group'] = test['lender'].map(bin_lender)"
   ]
  },
  {
   "cell_type": "markdown",
   "metadata": {},
   "source": [
    "### Display correlation matrix"
   ]
  },
  {
   "cell_type": "code",
   "execution_count": null,
   "metadata": {},
   "outputs": [],
   "source": [
    "pyplot.rcParams[\"figure.figsize\"]=30,30\n",
    "\n",
    "corr = train.corr()\n",
    "sns.set_context(\"notebook\", font_scale=1.0, rc={\"lines.linewidth\": 1.0})\n",
    "# pyplot.figure(figsize=(15,8))\n",
    "a = sns.heatmap(corr, annot=True, fmt='.2f')\n",
    "rotx = a.set_xticklabels(a.get_xticklabels(), rotation=90)\n",
    "roty = a.set_yticklabels(a.get_yticklabels(), rotation=30)\n",
    "pyplot.savefig('corr.png')"
   ]
  },
  {
   "cell_type": "markdown",
   "metadata": {},
   "source": [
    "### Setting the data types for categorical features of the training and test datasets for the Cat Boost Algorithm"
   ]
  },
  {
   "cell_type": "code",
   "execution_count": null,
   "metadata": {},
   "outputs": [],
   "source": [
    "# check the resulting data types for training dataset\n",
    "print(train.dtypes)"
   ]
  },
  {
   "cell_type": "code",
   "execution_count": null,
   "metadata": {},
   "outputs": [],
   "source": [
    "train = train.astype({\"loan_type\": str, \n",
    "                    \"property_type\": str,\n",
    "                    \"loan_purpose\": str,\n",
    "                    \"occupancy\": str,\n",
    "                    \"preapproval\": str,\n",
    "                    \"msa_md\": str,\n",
    "                    \"state_code\": str,\n",
    "                    \"county_code\": str,\n",
    "                    \"applicant_ethnicity\": str,\n",
    "                    \"applicant_race\": str,\n",
    "                    \"applicant_sex\": str,\n",
    "                    \"lender\": str,\n",
    "                    \"co_applicant\": str,\n",
    "                    \"msa_md_group\" : str,\n",
    "                    \"county_group\" : str,\n",
    "                    \"lender_group\" : str\n",
    "                   })"
   ]
  },
  {
   "cell_type": "code",
   "execution_count": null,
   "metadata": {},
   "outputs": [],
   "source": [
    "# check the resulting data types for training dataset\n",
    "print(train.dtypes)"
   ]
  },
  {
   "cell_type": "code",
   "execution_count": null,
   "metadata": {},
   "outputs": [],
   "source": [
    "# check the resulting data types for test dataset\n",
    "print(test.dtypes)"
   ]
  },
  {
   "cell_type": "code",
   "execution_count": null,
   "metadata": {},
   "outputs": [],
   "source": [
    "test = test.astype({\"loan_type\": str, \n",
    "                    \"property_type\": str,\n",
    "                    \"loan_purpose\": str,\n",
    "                    \"occupancy\": str,\n",
    "                    \"preapproval\": str,\n",
    "                    \"msa_md\": str,\n",
    "                    \"state_code\": str,\n",
    "                    \"county_code\": str,\n",
    "                    \"applicant_ethnicity\": str,\n",
    "                    \"applicant_race\": str,\n",
    "                    \"applicant_sex\": str,\n",
    "                    \"lender\": str,\n",
    "                    \"co_applicant\": str,\n",
    "                    \"msa_md_group\" : str,\n",
    "                    \"county_group\" : str,\n",
    "                    \"lender_group\" : str\n",
    "                   })"
   ]
  },
  {
   "cell_type": "code",
   "execution_count": null,
   "metadata": {},
   "outputs": [],
   "source": [
    "# check the resulting data types for test dataset\n",
    "print(test.dtypes)"
   ]
  },
  {
   "cell_type": "markdown",
   "metadata": {},
   "source": [
    "### Create the features matrix and target array"
   ]
  },
  {
   "cell_type": "code",
   "execution_count": null,
   "metadata": {},
   "outputs": [],
   "source": [
    "#Creating a training set for modeling and validation set to check model performance\n",
    "X_train = train.drop(['row_id','loan_amount','applicant_income','population','minority_population_pct',\n",
    "                      'ffiecmedian_family_income','tract_to_msa_md_income_pct',\n",
    "                      'number_of_owner-occupied_units','number_of_1_to_4_family_units',\n",
    "#                     'msa_md',\n",
    "#                      'msa_md_group'\n",
    "#                    'county_code',\n",
    "#                      'country_group'\n",
    "#                      'lender',\n",
    "#                      'lender_group'\n",
    "                      'rate_spread'], axis=1)\n",
    "y_train = train.rate_spread\n",
    "\n",
    "X_test = test.drop(['row_id','loan_amount','applicant_income','population','minority_population_pct',\n",
    "                      'ffiecmedian_family_income','tract_to_msa_md_income_pct',\n",
    "                      'number_of_owner-occupied_units','number_of_1_to_4_family_units',\n",
    "#                     'msa_md',\n",
    "#                      'msa_md_group'\n",
    "#                    'county_code',\n",
    "#                      'country_group'\n",
    "#                      'lender',\n",
    "#                      'lender_group'\n",
    "#                     'lender'\n",
    "                   ], axis=1)"
   ]
  },
  {
   "cell_type": "code",
   "execution_count": null,
   "metadata": {},
   "outputs": [],
   "source": [
    "X_train.dtypes"
   ]
  },
  {
   "cell_type": "code",
   "execution_count": null,
   "metadata": {},
   "outputs": [],
   "source": [
    "X_test.dtypes"
   ]
  },
  {
   "cell_type": "markdown",
   "metadata": {},
   "source": [
    "### Model scoring using Cross Validation"
   ]
  },
  {
   "cell_type": "code",
   "execution_count": null,
   "metadata": {},
   "outputs": [],
   "source": [
    "num_folds = 3\n",
    "seed = 1234\n",
    "scoring_metric = 'r2'"
   ]
  },
  {
   "cell_type": "code",
   "execution_count": null,
   "metadata": {},
   "outputs": [],
   "source": [
    "# this is needed for the Cat Boost model\n",
    "categorical_features_indices = np.where(X_train.dtypes == np.object)[0]\n",
    "print(categorical_features_indices)"
   ]
  },
  {
   "cell_type": "code",
   "execution_count": null,
   "metadata": {},
   "outputs": [],
   "source": [
    "from sklearn.model_selection import KFold\n",
    "from sklearn.model_selection import cross_val_score\n",
    "\n",
    "# initial hyperparameters\n",
    "model=CatBoostRegressor(iterations=200, depth=6, learning_rate=0.1, loss_function='RMSE')\n",
    "\n",
    "kfold = KFold(n_splits=num_folds, random_state=seed)\n",
    "\n",
    "start_time = time.time()\n",
    "\n",
    "cv_results = cross_val_score(model, X_train, y_train, cv=kfold, scoring=scoring_metric, \n",
    "                             fit_params={'cat_features':categorical_features_indices,'logging_level': 'Silent'})\n",
    "msg = \"Mean: %f \\t StdDev: (%f)\" % (cv_results.mean(), cv_results.std())\n",
    "print(msg)\n",
    "\n",
    "task_duration = (time.time() - start_time)\n",
    "print(\"CV Scoring - Running Time: {}\".format(datetime.timedelta(seconds=task_duration)))"
   ]
  },
  {
   "cell_type": "markdown",
   "metadata": {},
   "source": [
    "### Hyperparameter tuning using GridSearch with Cross Validation"
   ]
  },
  {
   "cell_type": "code",
   "execution_count": null,
   "metadata": {},
   "outputs": [],
   "source": [
    "from catboost import CatBoostRegressor\n",
    "from sklearn.model_selection import GridSearchCV\n",
    "\n",
    "\n",
    "parameters = {'depth'         : [6,10,12],\n",
    "              'learning_rate' : [0.1,0.2],\n",
    "              'iterations'    : [200, 400,800]\n",
    "             }\n",
    "\n",
    "kfold = KFold(n_splits=num_folds, random_state=seed)\n",
    "\n",
    "start_time = time.time()\n",
    "\n",
    "grid = GridSearchCV(estimator=model, param_grid = parameters, cv = kfold, n_jobs=-1)\n",
    "grid.fit(X_train, y_train,cat_features=categorical_features_indices,verbose=False)\n",
    "\n",
    "task_duration = (time.time() - start_time)\n",
    "print(\"GridSearchCV Parameter Tuning - Running Time: {}\".format(datetime.timedelta(seconds=task_duration)))"
   ]
  },
  {
   "cell_type": "code",
   "execution_count": null,
   "metadata": {},
   "outputs": [],
   "source": [
    "# Results from Grid Search\n",
    "print(\"\\n========================================================\")\n",
    "print(\" Results from Grid Search \" )\n",
    "print(\"========================================================\")    \n",
    "    \n",
    "print(\"\\n The best estimator across ALL searched params:\\n\",grid.best_estimator_)\n",
    "    \n",
    "print(\"\\n The best score across ALL searched params:\\n\",grid.best_score_)\n",
    "\n",
    "print(\"\\n The best parameters across ALL searched params:\\n\", grid.best_params_)\n",
    "    \n",
    "print(\"\\n ========================================================\")"
   ]
  },
  {
   "cell_type": "code",
   "execution_count": null,
   "metadata": {},
   "outputs": [],
   "source": [
    "optimal_parameters = grid.best_params_  "
   ]
  },
  {
   "cell_type": "code",
   "execution_count": null,
   "metadata": {},
   "outputs": [],
   "source": [
    "best_model = CatBoostRegressor(iterations=optimal_parameters[\"iterations\"],depth=optimal_parameters[\"depth\"],\n",
    "                          learning_rate=optimal_parameters[\"learning_rate\"], loss_function='RMSE')\n",
    "\n",
    "# best_model = CatBoostRegressor(iterations=400, depth=10, learning_rate=0.2, loss_function='RMSE')\n",
    "best_model.fit(X_train,y_train,cat_features=categorical_features_indices,verbose=False)"
   ]
  },
  {
   "cell_type": "code",
   "execution_count": null,
   "metadata": {},
   "outputs": [],
   "source": [
    "# Feature Importance\n",
    "def feature_importance(model, data):\n",
    "    \"\"\"\n",
    "    Function to show which features are most important in the model.\n",
    "    ::param_model:: Which model to use?\n",
    "    ::param_data:: What data to use?\n",
    "    \"\"\"\n",
    "    fea_imp = pd.DataFrame({'imp': model.feature_importances_, 'col': data.columns})\n",
    "    fea_imp = fea_imp.sort_values(['imp', 'col'], ascending=[True, False]).iloc[-30:]\n",
    "    _ = fea_imp.plot(kind='barh', x='col', y='imp', figsize=(20, 10))\n",
    "    return fea_imp"
   ]
  },
  {
   "cell_type": "code",
   "execution_count": null,
   "metadata": {},
   "outputs": [],
   "source": [
    "feature_importance(best_model, X_train)"
   ]
  },
  {
   "cell_type": "markdown",
   "metadata": {},
   "source": [
    "### Prediction and submission of results"
   ]
  },
  {
   "cell_type": "code",
   "execution_count": null,
   "metadata": {},
   "outputs": [],
   "source": [
    "predictions = best_model.predict(X_test)"
   ]
  },
  {
   "cell_type": "code",
   "execution_count": null,
   "metadata": {},
   "outputs": [],
   "source": [
    "submission = pd.DataFrame(data=predictions, columns=['rate_spread'])\n",
    "submission['row_id'] = test['row_id']"
   ]
  },
  {
   "cell_type": "code",
   "execution_count": null,
   "metadata": {},
   "outputs": [],
   "source": [
    "header = ['row_id','rate_spread']\n",
    "submission.to_csv('predicting_mortgage_rates_FINAL.csv', columns=header, index=False)"
   ]
  },
  {
   "cell_type": "code",
   "execution_count": null,
   "metadata": {},
   "outputs": [],
   "source": []
  }
 ],
 "metadata": {
  "kernelspec": {
   "display_name": "Python 3",
   "language": "python",
   "name": "python3"
  },
  "language_info": {
   "codemirror_mode": {
    "name": "ipython",
    "version": 3
   },
   "file_extension": ".py",
   "mimetype": "text/x-python",
   "name": "python",
   "nbconvert_exporter": "python",
   "pygments_lexer": "ipython3",
   "version": "3.11.5"
  }
 },
 "nbformat": 4,
 "nbformat_minor": 2
}
